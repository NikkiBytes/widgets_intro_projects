{
 "cells": [
  {
   "cell_type": "code",
   "execution_count": 3,
   "metadata": {},
   "outputs": [],
   "source": [
    "import ipywidgets as widgets\n",
    "from ipywidgets import interact, interact_manual\n",
    "import os, glob\n",
    "import pandas as pd\n",
    "from IPython.display import display\n"
   ]
  },
  {
   "cell_type": "code",
   "execution_count": 25,
   "metadata": {},
   "outputs": [],
   "source": [
    "csvs=[x.split(\"/\")[-1] for x in glob.glob(os.path.join('data/*.csv'))]\n",
    "ALL = 'ALL'\n",
    "df_base= pd.read_csv('data/bro_screening_data.csv')\n"
   ]
  },
  {
   "cell_type": "code",
   "execution_count": 13,
   "metadata": {},
   "outputs": [],
   "source": [
    "def unique_sorted_values_plus_ALL(array):\n",
    "    unique = array.unique().tolist()\n",
    "    unique.sort()\n",
    "    unique.insert(0, ALL)\n",
    "    return unique;"
   ]
  },
  {
   "cell_type": "code",
   "execution_count": 24,
   "metadata": {},
   "outputs": [
    {
     "data": {
      "application/vnd.jupyter.widget-view+json": {
       "model_id": "f4ae24b9ff114442ac2ee51473249283",
       "version_major": 2,
       "version_minor": 0
      },
      "text/plain": [
       "interactive(children=(Dropdown(description='file', options=('bro_survey_data_str.csv', 'bro_taqstatus.csv', 'b…"
      ]
     },
     "metadata": {},
     "output_type": "display_data"
    }
   ],
   "source": [
    "def make_df(csv):\n",
    "    file_path = os.path.join('data', csv)\n",
    "    df = pd.read_csv(file_path)\n",
    "    return df\n",
    "\n",
    "@interact\n",
    "def show_subject(file = csvs, subject= unique_sorted_values_plus_ALL(df_base['participantID'].dropna())):\n",
    "    # get file dataframe\n",
    "    df = make_df(file)\n",
    "\n",
    "    if subject == \"ALL\":\n",
    "        return df\n",
    "    else:\n",
    "        return df.loc[df['participantID'] == subject]\n",
    "    #return taste_data"
   ]
  },
  {
   "cell_type": "code",
   "execution_count": null,
   "metadata": {},
   "outputs": [],
   "source": []
  }
 ],
 "metadata": {
  "kernelspec": {
   "display_name": "Python 3",
   "language": "python",
   "name": "python3"
  },
  "language_info": {
   "codemirror_mode": {
    "name": "ipython",
    "version": 3
   },
   "file_extension": ".py",
   "mimetype": "text/x-python",
   "name": "python",
   "nbconvert_exporter": "python",
   "pygments_lexer": "ipython3",
   "version": "3.7.4"
  },
  "widgets": {
   "application/vnd.jupyter.widget-state+json": {
    "state": {
     "0113531c205b4858a38be5659338d46a": {
      "model_module": "@jupyter-widgets/base",
      "model_module_version": "1.2.0",
      "model_name": "LayoutModel",
      "state": {}
     },
     "140b42f9523a45d4be9a4b982a4cbfe4": {
      "model_module": "@jupyter-widgets/base",
      "model_module_version": "1.2.0",
      "model_name": "LayoutModel",
      "state": {}
     },
     "4018ac758b06484ebe2361cbd310d7da": {
      "model_module": "@jupyter-widgets/output",
      "model_module_version": "1.0.0",
      "model_name": "OutputModel",
      "state": {
       "layout": "IPY_MODEL_0113531c205b4858a38be5659338d46a",
       "outputs": [
        {
         "data": {
          "text/html": "<div>\n<style scoped>\n    .dataframe tbody tr th:only-of-type {\n        vertical-align: middle;\n    }\n\n    .dataframe tbody tr th {\n        vertical-align: top;\n    }\n\n    .dataframe thead th {\n        text-align: right;\n    }\n</style>\n<table border=\"1\" class=\"dataframe\">\n  <thead>\n    <tr style=\"text-align: right;\">\n      <th></th>\n      <th>participantID</th>\n      <th>milkweightpre_v1</th>\n      <th>mmweightpre_v1</th>\n      <th>skittweightpre_v1</th>\n      <th>popweightpre_v1</th>\n      <th>dorweightpre_v1</th>\n      <th>traindatacheck_v1</th>\n      <th>traindataissue_v1</th>\n      <th>pedatacheck_v1</th>\n      <th>pedataissue_v1</th>\n      <th>...</th>\n      <th>ssnogo_2_v2</th>\n      <th>ssnogo_3_v2</th>\n      <th>ssnogo_4_v2</th>\n      <th>ssissue_v2</th>\n      <th>milkweightpost_1_v2</th>\n      <th>mmweightpost_1_v2</th>\n      <th>skittweightpost_1_v2</th>\n      <th>popweightpost_1_v2</th>\n      <th>dorweightpost_1_v2</th>\n      <th>Q26_v2</th>\n    </tr>\n  </thead>\n  <tbody>\n    <tr>\n      <th>3</th>\n      <td>bro_004</td>\n      <td>358.3</td>\n      <td>235.8</td>\n      <td>226.6</td>\n      <td>316.3</td>\n      <td>352.1</td>\n      <td>Yes</td>\n      <td>NaN</td>\n      <td>Yes</td>\n      <td>NaN</td>\n      <td>...</td>\n      <td>410.8</td>\n      <td>136.0</td>\n      <td>16.0</td>\n      <td>NaN</td>\n      <td>550.4</td>\n      <td>239.4</td>\n      <td>229.5</td>\n      <td>300.4</td>\n      <td>299.0</td>\n      <td>NaN</td>\n    </tr>\n  </tbody>\n</table>\n<p>1 rows × 49 columns</p>\n</div>",
          "text/plain": "  participantID milkweightpre_v1  mmweightpre_v1  skittweightpre_v1  \\\n3       bro_004            358.3           235.8              226.6   \n\n   popweightpre_v1  dorweightpre_v1 traindatacheck_v1 traindataissue_v1  \\\n3            316.3            352.1               Yes               NaN   \n\n  pedatacheck_v1 pedataissue_v1  ...  ssnogo_2_v2  ssnogo_3_v2  ssnogo_4_v2  \\\n3            Yes            NaN  ...        410.8        136.0         16.0   \n\n   ssissue_v2  milkweightpost_1_v2  mmweightpost_1_v2  skittweightpost_1_v2  \\\n3         NaN                550.4              239.4                 229.5   \n\n   popweightpost_1_v2 dorweightpost_1_v2 Q26_v2  \n3               300.4              299.0    NaN  \n\n[1 rows x 49 columns]"
         },
         "metadata": {},
         "output_type": "display_data"
        }
       ]
      }
     },
     "5020fca3b8914d12af4bed169ee12e62": {
      "model_module": "@jupyter-widgets/controls",
      "model_module_version": "1.5.0",
      "model_name": "DropdownModel",
      "state": {
       "_options_labels": [
        "ALL",
        "bro_001",
        "bro_002",
        "bro_003",
        "bro_004",
        "bro_006",
        "bro_007",
        "bro_008",
        "bro_009",
        "bro_010",
        "bro_011",
        "bro_012",
        "bro_013",
        "bro_014",
        "bro_015",
        "bro_016",
        "bro_017",
        "bro_018",
        "bro_019",
        "bro_020",
        "bro_021",
        "bro_022",
        "bro_023",
        "bro_025",
        "bro_026",
        "bro_027",
        "bro_028",
        "bro_029",
        "bro_030",
        "bro_031",
        "bro_032",
        "bro_033",
        "bro_034",
        "bro_035",
        "bro_036",
        "bro_037",
        "bro_038",
        "bro_039",
        "bro_040",
        "bro_041",
        "bro_042",
        "bro_043",
        "bro_044",
        "bro_045",
        "bro_046",
        "bro_047",
        "bro_048",
        "bro_049",
        "bro_050",
        "bro_051",
        "bro_052",
        "bro_053",
        "bro_054",
        "bro_055",
        "bro_056"
       ],
       "description": "subject",
       "index": 2,
       "layout": "IPY_MODEL_6eb3d98bb86b4154b65c71e692349e54",
       "style": "IPY_MODEL_60e49bdc3ed14be4a37fcdd0ec3e8ea9"
      }
     },
     "541fb9ab4f1a4602aee49fe68c8db23b": {
      "model_module": "@jupyter-widgets/controls",
      "model_module_version": "1.5.0",
      "model_name": "DropdownModel",
      "state": {
       "_options_labels": [
        "bro_survey_data_str.csv",
        "bro_taqstatus.csv",
        "bro_check_data_01_31_2020.csv",
        "bro_vas_data.csv",
        "bro_survey_data_calc.csv",
        "bro_taste_test_data.csv",
        "bro_demographics.csv",
        "bro_screening_data.csv",
        "bro_blood_data_02_06_2020_10.19.csv",
        "bro_survey_data_num.csv"
       ],
       "description": "file",
       "index": 0,
       "layout": "IPY_MODEL_5b2c61e07b294f638cc4f1b2a652760c",
       "style": "IPY_MODEL_94a1cc25e17f4f369c8dbc23593252b9"
      }
     },
     "5a92179124124e10b596e13fcc75ee62": {
      "model_module": "@jupyter-widgets/output",
      "model_module_version": "1.0.0",
      "model_name": "OutputModel",
      "state": {
       "layout": "IPY_MODEL_d8076b7d2a2f4d379db674739266b663",
       "outputs": [
        {
         "data": {
          "text/html": "<div>\n<style scoped>\n    .dataframe tbody tr th:only-of-type {\n        vertical-align: middle;\n    }\n\n    .dataframe tbody tr th {\n        vertical-align: top;\n    }\n\n    .dataframe thead th {\n        text-align: right;\n    }\n</style>\n<table border=\"1\" class=\"dataframe\">\n  <thead>\n    <tr style=\"text-align: right;\">\n      <th></th>\n      <th>participantID</th>\n      <th>assessor_v1</th>\n      <th>date_v1</th>\n      <th>drugcheck_v1</th>\n      <th>drugtime_v1</th>\n      <th>weight1_1_v1</th>\n      <th>weight2_1_v1</th>\n      <th>hand1_v1</th>\n      <th>hand2_v1</th>\n      <th>hand3_v1</th>\n      <th>...</th>\n      <th>psqi7_v2</th>\n      <th>psqi8_v2</th>\n      <th>psqi10_v2</th>\n      <th>psqi11_1_v2</th>\n      <th>psqi11_2_v2</th>\n      <th>psqi11_3_v2</th>\n      <th>psqi11_4_v2</th>\n      <th>psqi11_5a_v2</th>\n      <th>psqi11_5b_v2</th>\n      <th>pre_ID</th>\n    </tr>\n  </thead>\n  <tbody>\n    <tr>\n      <th>1</th>\n      <td>bro_002</td>\n      <td>Shearrer</td>\n      <td>10/27/2017</td>\n      <td>yes</td>\n      <td>4:43</td>\n      <td>87.2</td>\n      <td>86.5</td>\n      <td>Right</td>\n      <td>Right</td>\n      <td>Right</td>\n      <td>...</td>\n      <td>Less than once a week</td>\n      <td>Only a very slight problem</td>\n      <td>Partner/room mate in other room</td>\n      <td>Not in past month</td>\n      <td>Not in past month</td>\n      <td>Not in past month</td>\n      <td>Not in past month</td>\n      <td>NaN</td>\n      <td>Not at all in the past month</td>\n      <td>pre_bro022</td>\n    </tr>\n  </tbody>\n</table>\n<p>1 rows × 595 columns</p>\n</div>",
          "text/plain": "  participantID assessor_v1     date_v1 drugcheck_v1 drugtime_v1  \\\n1       bro_002    Shearrer  10/27/2017          yes        4:43   \n\n   weight1_1_v1  weight2_1_v1 hand1_v1 hand2_v1 hand3_v1  ...  \\\n1          87.2          86.5    Right    Right    Right  ...   \n\n                psqi7_v2                    psqi8_v2  \\\n1  Less than once a week  Only a very slight problem   \n\n                         psqi10_v2        psqi11_1_v2        psqi11_2_v2  \\\n1  Partner/room mate in other room  Not in past month  Not in past month   \n\n         psqi11_3_v2        psqi11_4_v2 psqi11_5a_v2  \\\n1  Not in past month  Not in past month          NaN   \n\n                   psqi11_5b_v2      pre_ID  \n1  Not at all in the past month  pre_bro022  \n\n[1 rows x 595 columns]"
         },
         "metadata": {},
         "output_type": "display_data"
        }
       ]
      }
     },
     "5b2c61e07b294f638cc4f1b2a652760c": {
      "model_module": "@jupyter-widgets/base",
      "model_module_version": "1.2.0",
      "model_name": "LayoutModel",
      "state": {}
     },
     "60e49bdc3ed14be4a37fcdd0ec3e8ea9": {
      "model_module": "@jupyter-widgets/controls",
      "model_module_version": "1.5.0",
      "model_name": "DescriptionStyleModel",
      "state": {
       "description_width": ""
      }
     },
     "667de52f10cf4e4f95282385a92bfb0d": {
      "model_module": "@jupyter-widgets/controls",
      "model_module_version": "1.5.0",
      "model_name": "VBoxModel",
      "state": {
       "_dom_classes": [
        "widget-interact"
       ],
       "children": [
        "IPY_MODEL_541fb9ab4f1a4602aee49fe68c8db23b",
        "IPY_MODEL_5020fca3b8914d12af4bed169ee12e62",
        "IPY_MODEL_5a92179124124e10b596e13fcc75ee62"
       ],
       "layout": "IPY_MODEL_ff62b4f8f51a412b80c0815e8ff411c2"
      }
     },
     "6eb3d98bb86b4154b65c71e692349e54": {
      "model_module": "@jupyter-widgets/base",
      "model_module_version": "1.2.0",
      "model_name": "LayoutModel",
      "state": {}
     },
     "72c9de6ecfcd4793934d97dd06d9385a": {
      "model_module": "@jupyter-widgets/controls",
      "model_module_version": "1.5.0",
      "model_name": "DropdownModel",
      "state": {
       "_options_labels": [
        "bro_survey_data_str.csv",
        "bro_taqstatus.csv",
        "bro_check_data_01_31_2020.csv",
        "bro_vas_data.csv",
        "bro_survey_data_calc.csv",
        "bro_taste_test_data.csv",
        "bro_demographics.csv",
        "bro_screening_data.csv",
        "bro_blood_data_02_06_2020_10.19.csv",
        "bro_survey_data_num.csv"
       ],
       "description": "file",
       "index": 2,
       "layout": "IPY_MODEL_c72868a0ef9c49f3b484bb9925a6f383",
       "style": "IPY_MODEL_e2d8a94d4cc14ac0b60c74802ede9e22"
      }
     },
     "94a1cc25e17f4f369c8dbc23593252b9": {
      "model_module": "@jupyter-widgets/controls",
      "model_module_version": "1.5.0",
      "model_name": "DescriptionStyleModel",
      "state": {
       "description_width": ""
      }
     },
     "c72868a0ef9c49f3b484bb9925a6f383": {
      "model_module": "@jupyter-widgets/base",
      "model_module_version": "1.2.0",
      "model_name": "LayoutModel",
      "state": {}
     },
     "ca091f7ecce04301986dc4078448b9bd": {
      "model_module": "@jupyter-widgets/controls",
      "model_module_version": "1.5.0",
      "model_name": "DescriptionStyleModel",
      "state": {
       "description_width": ""
      }
     },
     "d8076b7d2a2f4d379db674739266b663": {
      "model_module": "@jupyter-widgets/base",
      "model_module_version": "1.2.0",
      "model_name": "LayoutModel",
      "state": {}
     },
     "dcfe90da55bb43aeb6e9e98506734e44": {
      "model_module": "@jupyter-widgets/base",
      "model_module_version": "1.2.0",
      "model_name": "LayoutModel",
      "state": {}
     },
     "def1da09f0f54208b7eaa6a782cc12d4": {
      "model_module": "@jupyter-widgets/controls",
      "model_module_version": "1.5.0",
      "model_name": "DropdownModel",
      "state": {
       "_options_labels": [
        "ALL",
        "bro_001",
        "bro_002",
        "bro_003",
        "bro_004",
        "bro_005",
        "bro_006",
        "bro_007",
        "bro_008",
        "bro_009",
        "bro_010",
        "bro_011",
        "bro_012",
        "bro_013",
        "bro_014",
        "bro_015",
        "bro_016",
        "bro_017",
        "bro_018",
        "bro_019",
        "bro_020",
        "bro_021",
        "bro_022",
        "bro_023",
        "bro_024",
        "bro_025",
        "bro_026",
        "bro_027",
        "bro_028",
        "bro_029",
        "bro_030",
        "bro_031",
        "bro_032",
        "bro_033",
        "bro_034",
        "bro_035",
        "bro_036",
        "bro_037",
        "bro_038",
        "bro_039",
        "bro_040",
        "bro_041",
        "bro_042",
        "bro_043",
        "bro_044",
        "bro_045",
        "bro_046",
        "bro_047",
        "bro_048",
        "bro_049",
        "bro_050",
        "bro_051",
        "bro_052",
        "bro_053",
        "bro_054",
        "bro_055",
        "bro_056"
       ],
       "description": "subject",
       "index": 4,
       "layout": "IPY_MODEL_140b42f9523a45d4be9a4b982a4cbfe4",
       "style": "IPY_MODEL_ca091f7ecce04301986dc4078448b9bd"
      }
     },
     "e2d8a94d4cc14ac0b60c74802ede9e22": {
      "model_module": "@jupyter-widgets/controls",
      "model_module_version": "1.5.0",
      "model_name": "DescriptionStyleModel",
      "state": {
       "description_width": ""
      }
     },
     "f4ae24b9ff114442ac2ee51473249283": {
      "model_module": "@jupyter-widgets/controls",
      "model_module_version": "1.5.0",
      "model_name": "VBoxModel",
      "state": {
       "_dom_classes": [
        "widget-interact"
       ],
       "children": [
        "IPY_MODEL_72c9de6ecfcd4793934d97dd06d9385a",
        "IPY_MODEL_def1da09f0f54208b7eaa6a782cc12d4",
        "IPY_MODEL_4018ac758b06484ebe2361cbd310d7da"
       ],
       "layout": "IPY_MODEL_dcfe90da55bb43aeb6e9e98506734e44"
      }
     },
     "ff62b4f8f51a412b80c0815e8ff411c2": {
      "model_module": "@jupyter-widgets/base",
      "model_module_version": "1.2.0",
      "model_name": "LayoutModel",
      "state": {}
     }
    },
    "version_major": 2,
    "version_minor": 0
   }
  }
 },
 "nbformat": 4,
 "nbformat_minor": 4
}
