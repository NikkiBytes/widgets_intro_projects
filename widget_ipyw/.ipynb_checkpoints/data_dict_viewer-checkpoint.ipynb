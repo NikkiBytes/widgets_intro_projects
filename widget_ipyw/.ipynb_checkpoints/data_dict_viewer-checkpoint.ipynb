{
 "cells": [
  {
   "cell_type": "code",
   "execution_count": 1,
   "metadata": {},
   "outputs": [],
   "source": [
    "import ipywidgets as widgets\n",
    "from ipywidgets import interact, interact_manual\n",
    "import os, glob\n",
    "import pandas as pd\n",
    "from IPython.display import display\n"
   ]
  },
  {
   "cell_type": "code",
   "execution_count": 2,
   "metadata": {},
   "outputs": [],
   "source": [
    "taste_data=pd.read_csv('bro_taste_test_data.csv')\n",
    "#taste_data.set_index('participantID', inplace=True)"
   ]
  },
  {
   "cell_type": "code",
   "execution_count": 31,
   "metadata": {},
   "outputs": [],
   "source": [
    "#taste_data.head()"
   ]
  },
  {
   "cell_type": "code",
   "execution_count": 32,
   "metadata": {},
   "outputs": [],
   "source": [
    "#taste_data.columns.values"
   ]
  },
  {
   "cell_type": "markdown",
   "metadata": {},
   "source": [
    "Suppose we would like to filter the dataframe by year. We will first define a dropdown and populate it with the list of unique year values.\n",
    "In order to do this, we will create a generic function, unique_sorted_values_plus_ALL, which will find the unique values, sort them and then add the ALL item at the start, so the user could remove the filter"
   ]
  },
  {
   "cell_type": "code",
   "execution_count": 12,
   "metadata": {},
   "outputs": [],
   "source": [
    "ALL = 'ALL'\n",
    "def unique_sorted_values_plus_ALL(array):\n",
    "    unique = array.unique().tolist()\n",
    "    unique.sort()\n",
    "    unique.insert(0, ALL)\n",
    "    return unique;"
   ]
  },
  {
   "cell_type": "code",
   "execution_count": 13,
   "metadata": {},
   "outputs": [
    {
     "data": {
      "application/vnd.jupyter.widget-view+json": {
       "model_id": "19d354cf3aba470fb3c36de240f794f1",
       "version_major": 2,
       "version_minor": 0
      },
      "text/plain": [
       "interactive(children=(Dropdown(description='column', options=('milkshakedesire_1_v1', 'milkshakesweet_1_v1', '…"
      ]
     },
     "metadata": {},
     "output_type": "display_data"
    }
   ],
   "source": [
    "@interact\n",
    "def show_articles_more_than(column=[  'milkshakedesire_1_v1',\n",
    "       'milkshakesweet_1_v1', 'milkshakeintense_1_v1','milkshakepleasant_1_v2', 'milkshakedesire_1_v2',\n",
    "       'milkshakesweet_1_v2', 'milkshakeintense_1_v2'] , x=(10, 100, 10)):\n",
    "    return taste_data.loc[taste_data[column] > x]"
   ]
  },
  {
   "cell_type": "code",
   "execution_count": 30,
   "metadata": {},
   "outputs": [
    {
     "data": {
      "application/vnd.jupyter.widget-view+json": {
       "model_id": "86f11f84d33f4b5dae3b30b51e8e37a7",
       "version_major": 2,
       "version_minor": 0
      },
      "text/plain": [
       "interactive(children=(Dropdown(description='subject', options=('ALL', 'bro_001', 'bro_002', 'bro_003', 'bro_00…"
      ]
     },
     "metadata": {},
     "output_type": "display_data"
    }
   ],
   "source": [
    "@interact\n",
    "def show_subject( subject = unique_sorted_values_plus_ALL(taste_data.participantID)):\n",
    "    if subject == \"ALL\":\n",
    "        pass\n",
    "        return taste_data\n",
    "    else:\n",
    "        return taste_data.loc[taste_data['participantID'] == subject]\n",
    "    #return taste_data"
   ]
  },
  {
   "cell_type": "code",
   "execution_count": 6,
   "metadata": {},
   "outputs": [],
   "source": [
    "#display(taste_data)"
   ]
  },
  {
   "cell_type": "code",
   "execution_count": 10,
   "metadata": {},
   "outputs": [],
   "source": [
    "#import cufflinks as cf\n",
    "\n",
    "#@interact\n",
    "#def scatter_plot(x=list(taste_data.select_dtypes('number').columns), \n",
    " #                y=list(taste_data.select_dtypes('number').columns)[1:],\n",
    "  #               theme=list(cf.themes.THEMES.keys()), \n",
    "   #              colorscale=list(cf.colors._scales_names.keys())):\n",
    "    \n",
    "   # taste_data.iplot(kind='scatter', x=x, y=y, mode='markers', theme=theme, colorscale=colorscale,\n",
    "    #                 xTitle=x.title(), yTitle=y.title())\n",
    "             #text='title',theme=theme, colorscale=colorscale)\n",
    "             #title=f'{y.title()} vs {x.title()}', theme=theme, colorscale=colorscale)"
   ]
  },
  {
   "cell_type": "code",
   "execution_count": 10,
   "metadata": {},
   "outputs": [],
   "source": []
  },
  {
   "cell_type": "code",
   "execution_count": null,
   "metadata": {},
   "outputs": [],
   "source": []
  }
 ],
 "metadata": {
  "kernelspec": {
   "display_name": "Python 3",
   "language": "python",
   "name": "python3"
  },
  "language_info": {
   "codemirror_mode": {
    "name": "ipython",
    "version": 3
   },
   "file_extension": ".py",
   "mimetype": "text/x-python",
   "name": "python",
   "nbconvert_exporter": "python",
   "pygments_lexer": "ipython3",
   "version": "3.7.4"
  },
  "widgets": {
   "application/vnd.jupyter.widget-state+json": {
    "state": {},
    "version_major": 2,
    "version_minor": 0
   }
  }
 },
 "nbformat": 4,
 "nbformat_minor": 4
}
