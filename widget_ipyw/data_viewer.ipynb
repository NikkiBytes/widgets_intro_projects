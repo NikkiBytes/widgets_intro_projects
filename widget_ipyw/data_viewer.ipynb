{
 "cells": [
  {
   "cell_type": "code",
   "execution_count": 3,
   "metadata": {},
   "outputs": [],
   "source": [
    "import ipywidgets as widgets\n",
    "from ipywidgets import interact, interact_manual\n",
    "import os, glob\n",
    "import pandas as pd\n",
    "from IPython.display import display\n"
   ]
  },
  {
   "cell_type": "code",
   "execution_count": null,
   "metadata": {},
   "outputs": [],
   "source": [
    "#!pip install widgetsnbextension \n",
    "#!jupyter nbextension install --debug /usr/local/lib/python3.6/dist-packages/widgetsnbextension\n",
    "#!jupyter nbextension enable --debug /usr/local/lib/python3.6/dist-packages/widgetsnbextension \n",
    "#!jupyter nbextension list\n",
    "#!pip install jupyterlab\n",
    "#!pip install nodejs\n",
    "#!jupyter labextension install @jupyter-widgets/jupyterlab-manager\n",
    "#!jupyter nbextension enable --py widgetsnbextension\n",
    "#!pip install ipywidgets\n",
    "!jupyter nbextension enable --py widgetsnbextension"
   ]
  },
  {
   "cell_type": "code",
   "execution_count": 25,
   "metadata": {},
   "outputs": [],
   "source": [
    "csvs=[x.split(\"/\")[-1] for x in glob.glob(os.path.join('data/*.csv'))]\n",
    "ALL = 'ALL'\n",
    "df_base= pd.read_csv('data/bro_screening_data.csv')\n"
   ]
  },
  {
   "cell_type": "code",
   "execution_count": 13,
   "metadata": {},
   "outputs": [],
   "source": [
    "def unique_sorted_values_plus_ALL(array):\n",
    "    unique = array.unique().tolist()\n",
    "    unique.sort()\n",
    "    unique.insert(0, ALL)\n",
    "    return unique;"
   ]
  },
  {
   "cell_type": "code",
   "execution_count": 24,
   "metadata": {},
   "outputs": [
    {
     "data": {
      "application/vnd.jupyter.widget-view+json": {
       "model_id": "f4ae24b9ff114442ac2ee51473249283",
       "version_major": 2,
       "version_minor": 0
      },
      "text/plain": [
       "interactive(children=(Dropdown(description='file', options=('bro_survey_data_str.csv', 'bro_taqstatus.csv', 'b…"
      ]
     },
     "metadata": {},
     "output_type": "display_data"
    }
   ],
   "source": [
    "def make_df(csv):\n",
    "    file_path = os.path.join('data', csv)\n",
    "    df = pd.read_csv(file_path)\n",
    "    return df\n",
    "\n",
    "@interact\n",
    "def show_subject(file = csvs, subject= unique_sorted_values_plus_ALL(df_base['participantID'].dropna())):\n",
    "    # get file dataframe\n",
    "    df = make_df(file)\n",
    "\n",
    "    if subject == \"ALL\":\n",
    "        return df\n",
    "    else:\n",
    "        return df.loc[df['participantID'] == subject]\n",
    "    #return taste_data"
   ]
  },
  {
   "cell_type": "code",
   "execution_count": null,
   "metadata": {},
   "outputs": [],
   "source": []
  }
 ],
 "metadata": {
  "kernelspec": {
   "display_name": "Python 3",
   "language": "python",
   "name": "python3"
  },
  "language_info": {
   "codemirror_mode": {
    "name": "ipython",
    "version": 3
   },
   "file_extension": ".py",
   "mimetype": "text/x-python",
   "name": "python",
   "nbconvert_exporter": "python",
   "pygments_lexer": "ipython3",
   "version": "3.7.4"
  },
  "widgets": {
   "application/vnd.jupyter.widget-state+json": {
    "state": {
     "0113531c205b4858a38be5659338d46a": {
      "model_module": "@jupyter-widgets/base",
      "model_module_version": "1.2.0",
      "model_name": "LayoutModel",
      "state": {}
     },
     "140b42f9523a45d4be9a4b982a4cbfe4": {
      "model_module": "@jupyter-widgets/base",
      "model_module_version": "1.2.0",
      "model_name": "LayoutModel",
      "state": {}
     },
     "4018ac758b06484ebe2361cbd310d7da": {
      "model_module": "@jupyter-widgets/output",
      "model_module_version": "1.0.0",
      "model_name": "OutputModel",
      "state": {
       "layout": "IPY_MODEL_0113531c205b4858a38be5659338d46a",
       "outputs": [
        {
         "data": {
          "text/html": "<div>\n<style scoped>\n    .dataframe tbody tr th:only-of-type {\n        vertical-align: middle;\n    }\n\n    .dataframe tbody tr th {\n        vertical-align: top;\n    }\n\n    .dataframe thead th {\n        text-align: right;\n    }\n</style>\n<table border=\"1\" class=\"dataframe\">\n  <thead>\n    <tr style=\"text-align: right;\">\n      <th></th>\n      <th>participantID</th>\n      <th>StartDate_v1</th>\n      <th>Duration (in seconds)_v1</th>\n      <th>hungry1_1_v1</th>\n      <th>full1_1_v1</th>\n      <th>thirsty1_1_v1</th>\n      <th>nauseous1_1_v1</th>\n      <th>hungry2_1_v1</th>\n      <th>full2_1_v1</th>\n      <th>thirsty2_1_v1</th>\n      <th>...</th>\n      <th>thirsty3_1_v2</th>\n      <th>nauseous3_1_v2</th>\n      <th>hungry4_1_v2</th>\n      <th>full4_1_v2</th>\n      <th>thirsty4_1_v2</th>\n      <th>nauseous4_1_v2</th>\n      <th>hungry5_1_v2</th>\n      <th>full5_1_v2</th>\n      <th>thirsty5_1_v2</th>\n      <th>nauseous5_1_v2</th>\n    </tr>\n  </thead>\n  <tbody>\n    <tr>\n      <th>0</th>\n      <td>bro_001</td>\n      <td>2017-10-25 13:32:05</td>\n      <td>13425.0</td>\n      <td>-3.0</td>\n      <td>0.0</td>\n      <td>0.0</td>\n      <td>-100.0</td>\n      <td>11.0</td>\n      <td>0.0</td>\n      <td>0.0</td>\n      <td>...</td>\n      <td>14.0</td>\n      <td>0.0</td>\n      <td>-61.0</td>\n      <td>80.0</td>\n      <td>-65.0</td>\n      <td>-9.0</td>\n      <td>-58.0</td>\n      <td>61.0</td>\n      <td>-72.0</td>\n      <td>-77.0</td>\n    </tr>\n    <tr>\n      <th>1</th>\n      <td>bro_002</td>\n      <td>2017-10-27 13:46:18</td>\n      <td>14626.0</td>\n      <td>73.0</td>\n      <td>-100.0</td>\n      <td>-28.0</td>\n      <td>0.0</td>\n      <td>55.0</td>\n      <td>-100.0</td>\n      <td>-81.0</td>\n      <td>...</td>\n      <td>12.0</td>\n      <td>0.0</td>\n      <td>-68.0</td>\n      <td>5.0</td>\n      <td>0.0</td>\n      <td>0.0</td>\n      <td>-48.0</td>\n      <td>61.0</td>\n      <td>44.0</td>\n      <td>-52.0</td>\n    </tr>\n    <tr>\n      <th>2</th>\n      <td>bro_003</td>\n      <td>2018-01-27 6:45:37</td>\n      <td>15389.0</td>\n      <td>9.0</td>\n      <td>-11.0</td>\n      <td>-50.0</td>\n      <td>9.0</td>\n      <td>23.0</td>\n      <td>-8.0</td>\n      <td>23.0</td>\n      <td>...</td>\n      <td>-71.0</td>\n      <td>-25.0</td>\n      <td>-59.0</td>\n      <td>48.0</td>\n      <td>-34.0</td>\n      <td>-44.0</td>\n      <td>NaN</td>\n      <td>NaN</td>\n      <td>NaN</td>\n      <td>NaN</td>\n    </tr>\n    <tr>\n      <th>3</th>\n      <td>bro_004</td>\n      <td>2018-03-06 15:40:07</td>\n      <td>15690.0</td>\n      <td>2.0</td>\n      <td>0.0</td>\n      <td>38.0</td>\n      <td>7.0</td>\n      <td>27.0</td>\n      <td>16.0</td>\n      <td>26.0</td>\n      <td>...</td>\n      <td>-16.0</td>\n      <td>-55.0</td>\n      <td>0.0</td>\n      <td>10.0</td>\n      <td>27.0</td>\n      <td>-47.0</td>\n      <td>52.0</td>\n      <td>0.0</td>\n      <td>34.0</td>\n      <td>-77.0</td>\n    </tr>\n    <tr>\n      <th>4</th>\n      <td>bro_005</td>\n      <td>2017-10-21 12:01:07</td>\n      <td>4064.0</td>\n      <td>56.0</td>\n      <td>-63.0</td>\n      <td>-57.0</td>\n      <td>-19.0</td>\n      <td>60.0</td>\n      <td>-46.0</td>\n      <td>-71.0</td>\n      <td>...</td>\n      <td>NaN</td>\n      <td>NaN</td>\n      <td>NaN</td>\n      <td>NaN</td>\n      <td>NaN</td>\n      <td>NaN</td>\n      <td>NaN</td>\n      <td>NaN</td>\n      <td>NaN</td>\n      <td>NaN</td>\n    </tr>\n    <tr>\n      <th>5</th>\n      <td>bro_006</td>\n      <td>2018-01-06 5:51:39</td>\n      <td>14378.0</td>\n      <td>21.0</td>\n      <td>-30.0</td>\n      <td>-72.0</td>\n      <td>-100.0</td>\n      <td>-33.0</td>\n      <td>-16.0</td>\n      <td>40.0</td>\n      <td>...</td>\n      <td>47.0</td>\n      <td>37.0</td>\n      <td>-65.0</td>\n      <td>-19.0</td>\n      <td>43.0</td>\n      <td>53.0</td>\n      <td>22.0</td>\n      <td>-19.0</td>\n      <td>35.0</td>\n      <td>14.0</td>\n    </tr>\n    <tr>\n      <th>6</th>\n      <td>bro_007</td>\n      <td>2018-03-09 8:26:52</td>\n      <td>16080.0</td>\n      <td>44.0</td>\n      <td>-30.0</td>\n      <td>19.0</td>\n      <td>19.0</td>\n      <td>22.0</td>\n      <td>-35.0</td>\n      <td>32.0</td>\n      <td>...</td>\n      <td>41.0</td>\n      <td>-31.0</td>\n      <td>25.0</td>\n      <td>-28.0</td>\n      <td>26.0</td>\n      <td>17.0</td>\n      <td>45.0</td>\n      <td>0.0</td>\n      <td>0.0</td>\n      <td>-65.0</td>\n    </tr>\n    <tr>\n      <th>7</th>\n      <td>bro_008</td>\n      <td>2017-11-06 16:12:21</td>\n      <td>13658.0</td>\n      <td>45.0</td>\n      <td>-71.0</td>\n      <td>0.0</td>\n      <td>-100.0</td>\n      <td>49.0</td>\n      <td>-26.0</td>\n      <td>0.0</td>\n      <td>...</td>\n      <td>17.0</td>\n      <td>-98.0</td>\n      <td>36.0</td>\n      <td>-57.0</td>\n      <td>0.0</td>\n      <td>-86.0</td>\n      <td>-56.0</td>\n      <td>54.0</td>\n      <td>-100.0</td>\n      <td>-55.0</td>\n    </tr>\n    <tr>\n      <th>8</th>\n      <td>bro_009</td>\n      <td>2017-11-18 5:23:07</td>\n      <td>16399.0</td>\n      <td>-6.0</td>\n      <td>0.0</td>\n      <td>-6.0</td>\n      <td>-100.0</td>\n      <td>-4.0</td>\n      <td>-30.0</td>\n      <td>1.0</td>\n      <td>...</td>\n      <td>25.0</td>\n      <td>0.0</td>\n      <td>19.0</td>\n      <td>-8.0</td>\n      <td>19.0</td>\n      <td>-3.0</td>\n      <td>-30.0</td>\n      <td>30.0</td>\n      <td>0.0</td>\n      <td>-52.0</td>\n    </tr>\n    <tr>\n      <th>9</th>\n      <td>bro_010</td>\n      <td>2017-11-18 10:14:11</td>\n      <td>15080.0</td>\n      <td>53.0</td>\n      <td>-21.0</td>\n      <td>-53.0</td>\n      <td>-44.0</td>\n      <td>30.0</td>\n      <td>-48.0</td>\n      <td>11.0</td>\n      <td>...</td>\n      <td>0.0</td>\n      <td>0.0</td>\n      <td>51.0</td>\n      <td>-17.0</td>\n      <td>-73.0</td>\n      <td>0.0</td>\n      <td>-51.0</td>\n      <td>0.0</td>\n      <td>8.0</td>\n      <td>0.0</td>\n    </tr>\n    <tr>\n      <th>10</th>\n      <td>bro_011</td>\n      <td>2017-11-07 4:14:28</td>\n      <td>15367.0</td>\n      <td>-60.0</td>\n      <td>-23.0</td>\n      <td>-29.0</td>\n      <td>-100.0</td>\n      <td>-21.0</td>\n      <td>-35.0</td>\n      <td>-87.0</td>\n      <td>...</td>\n      <td>-100.0</td>\n      <td>-100.0</td>\n      <td>-13.0</td>\n      <td>-12.0</td>\n      <td>-84.0</td>\n      <td>0.0</td>\n      <td>11.0</td>\n      <td>-21.0</td>\n      <td>0.0</td>\n      <td>-100.0</td>\n    </tr>\n    <tr>\n      <th>11</th>\n      <td>bro_012</td>\n      <td>2017-11-06 4:28:03</td>\n      <td>15360.0</td>\n      <td>19.0</td>\n      <td>-45.0</td>\n      <td>-98.0</td>\n      <td>-80.0</td>\n      <td>20.0</td>\n      <td>-70.0</td>\n      <td>-61.0</td>\n      <td>...</td>\n      <td>12.0</td>\n      <td>59.0</td>\n      <td>21.0</td>\n      <td>48.0</td>\n      <td>-29.0</td>\n      <td>83.0</td>\n      <td>11.0</td>\n      <td>12.0</td>\n      <td>-47.0</td>\n      <td>19.0</td>\n    </tr>\n    <tr>\n      <th>12</th>\n      <td>bro_013</td>\n      <td>2018-03-21 11:23:45</td>\n      <td>16988.0</td>\n      <td>-57.0</td>\n      <td>-100.0</td>\n      <td>-54.0</td>\n      <td>-100.0</td>\n      <td>35.0</td>\n      <td>-100.0</td>\n      <td>20.0</td>\n      <td>...</td>\n      <td>-100.0</td>\n      <td>-100.0</td>\n      <td>-100.0</td>\n      <td>73.0</td>\n      <td>-100.0</td>\n      <td>-53.0</td>\n      <td>-100.0</td>\n      <td>60.0</td>\n      <td>-100.0</td>\n      <td>-57.0</td>\n    </tr>\n    <tr>\n      <th>13</th>\n      <td>bro_014</td>\n      <td>2017-12-07 6:28:24</td>\n      <td>17885.0</td>\n      <td>71.0</td>\n      <td>-100.0</td>\n      <td>37.0</td>\n      <td>-67.0</td>\n      <td>59.0</td>\n      <td>-40.0</td>\n      <td>18.0</td>\n      <td>...</td>\n      <td>6.0</td>\n      <td>-66.0</td>\n      <td>-100.0</td>\n      <td>21.0</td>\n      <td>13.0</td>\n      <td>-77.0</td>\n      <td>-9.0</td>\n      <td>-5.0</td>\n      <td>15.0</td>\n      <td>-26.0</td>\n    </tr>\n    <tr>\n      <th>14</th>\n      <td>bro_015</td>\n      <td>2017-12-08 11:02:05</td>\n      <td>15073.0</td>\n      <td>54.0</td>\n      <td>-70.0</td>\n      <td>9.0</td>\n      <td>-100.0</td>\n      <td>39.0</td>\n      <td>-68.0</td>\n      <td>6.0</td>\n      <td>...</td>\n      <td>-28.0</td>\n      <td>-95.0</td>\n      <td>33.0</td>\n      <td>-53.0</td>\n      <td>-12.0</td>\n      <td>-86.0</td>\n      <td>51.0</td>\n      <td>-66.0</td>\n      <td>-29.0</td>\n      <td>-95.0</td>\n    </tr>\n    <tr>\n      <th>15</th>\n      <td>bro_016</td>\n      <td>2017-12-04 15:43:55</td>\n      <td>14394.0</td>\n      <td>-40.0</td>\n      <td>-11.0</td>\n      <td>0.0</td>\n      <td>0.0</td>\n      <td>-23.0</td>\n      <td>-12.0</td>\n      <td>-33.0</td>\n      <td>...</td>\n      <td>-91.0</td>\n      <td>-87.0</td>\n      <td>-100.0</td>\n      <td>22.0</td>\n      <td>-35.0</td>\n      <td>-100.0</td>\n      <td>-4.0</td>\n      <td>0.0</td>\n      <td>0.0</td>\n      <td>1.0</td>\n    </tr>\n    <tr>\n      <th>16</th>\n      <td>bro_017</td>\n      <td>2018-03-29 12:07:59</td>\n      <td>13099.0</td>\n      <td>47.0</td>\n      <td>-93.0</td>\n      <td>27.0</td>\n      <td>-100.0</td>\n      <td>33.0</td>\n      <td>-53.0</td>\n      <td>33.0</td>\n      <td>...</td>\n      <td>-57.0</td>\n      <td>7.0</td>\n      <td>-93.0</td>\n      <td>64.0</td>\n      <td>-36.0</td>\n      <td>58.0</td>\n      <td>-80.0</td>\n      <td>70.0</td>\n      <td>-23.0</td>\n      <td>38.0</td>\n    </tr>\n    <tr>\n      <th>17</th>\n      <td>bro_018</td>\n      <td>2018-04-10 5:01:05</td>\n      <td>9166.0</td>\n      <td>93.0</td>\n      <td>-86.0</td>\n      <td>-28.0</td>\n      <td>-100.0</td>\n      <td>72.0</td>\n      <td>-86.0</td>\n      <td>-33.0</td>\n      <td>...</td>\n      <td>-22.0</td>\n      <td>-72.0</td>\n      <td>52.0</td>\n      <td>-35.0</td>\n      <td>23.0</td>\n      <td>-94.0</td>\n      <td>-60.0</td>\n      <td>37.0</td>\n      <td>36.0</td>\n      <td>-97.0</td>\n    </tr>\n    <tr>\n      <th>18</th>\n      <td>bro_019</td>\n      <td>2018-04-30 14:59:50</td>\n      <td>14782.0</td>\n      <td>74.0</td>\n      <td>-100.0</td>\n      <td>58.0</td>\n      <td>-100.0</td>\n      <td>82.0</td>\n      <td>-100.0</td>\n      <td>72.0</td>\n      <td>...</td>\n      <td>60.0</td>\n      <td>-100.0</td>\n      <td>78.0</td>\n      <td>32.0</td>\n      <td>43.0</td>\n      <td>-100.0</td>\n      <td>-80.0</td>\n      <td>16.0</td>\n      <td>-43.0</td>\n      <td>36.0</td>\n    </tr>\n    <tr>\n      <th>19</th>\n      <td>bro_020</td>\n      <td>2018-05-14 14:49:53</td>\n      <td>13288.0</td>\n      <td>92.0</td>\n      <td>-100.0</td>\n      <td>58.0</td>\n      <td>-100.0</td>\n      <td>88.0</td>\n      <td>-100.0</td>\n      <td>64.0</td>\n      <td>...</td>\n      <td>NaN</td>\n      <td>NaN</td>\n      <td>NaN</td>\n      <td>NaN</td>\n      <td>NaN</td>\n      <td>NaN</td>\n      <td>NaN</td>\n      <td>NaN</td>\n      <td>NaN</td>\n      <td>NaN</td>\n    </tr>\n    <tr>\n      <th>20</th>\n      <td>bro_021</td>\n      <td>2018-05-21 14:47:35</td>\n      <td>20426.0</td>\n      <td>21.0</td>\n      <td>-86.0</td>\n      <td>14.0</td>\n      <td>-100.0</td>\n      <td>-2.0</td>\n      <td>-56.0</td>\n      <td>10.0</td>\n      <td>...</td>\n      <td>49.0</td>\n      <td>-97.0</td>\n      <td>-76.0</td>\n      <td>-55.0</td>\n      <td>27.0</td>\n      <td>-100.0</td>\n      <td>-100.0</td>\n      <td>23.0</td>\n      <td>35.0</td>\n      <td>-100.0</td>\n    </tr>\n    <tr>\n      <th>21</th>\n      <td>bro_022</td>\n      <td>2018-07-24 4:40:34</td>\n      <td>15388.0</td>\n      <td>1.0</td>\n      <td>-2.0</td>\n      <td>-5.0</td>\n      <td>-2.0</td>\n      <td>-3.0</td>\n      <td>-19.0</td>\n      <td>28.0</td>\n      <td>...</td>\n      <td>70.0</td>\n      <td>-100.0</td>\n      <td>-97.0</td>\n      <td>0.0</td>\n      <td>31.0</td>\n      <td>-100.0</td>\n      <td>-100.0</td>\n      <td>0.0</td>\n      <td>-96.0</td>\n      <td>-91.0</td>\n    </tr>\n    <tr>\n      <th>22</th>\n      <td>bro_023</td>\n      <td>2018-08-30 13:45:00</td>\n      <td>15083.0</td>\n      <td>59.0</td>\n      <td>-53.0</td>\n      <td>3.0</td>\n      <td>-100.0</td>\n      <td>33.0</td>\n      <td>-18.0</td>\n      <td>15.0</td>\n      <td>...</td>\n      <td>-100.0</td>\n      <td>29.0</td>\n      <td>-22.0</td>\n      <td>41.0</td>\n      <td>-91.0</td>\n      <td>-89.0</td>\n      <td>NaN</td>\n      <td>NaN</td>\n      <td>NaN</td>\n      <td>NaN</td>\n    </tr>\n    <tr>\n      <th>23</th>\n      <td>bro_025</td>\n      <td>2018-08-22 15:40:10</td>\n      <td>14536.0</td>\n      <td>67.0</td>\n      <td>-89.0</td>\n      <td>26.0</td>\n      <td>-100.0</td>\n      <td>67.0</td>\n      <td>-96.0</td>\n      <td>34.0</td>\n      <td>...</td>\n      <td>-29.0</td>\n      <td>-91.0</td>\n      <td>25.0</td>\n      <td>-42.0</td>\n      <td>-90.0</td>\n      <td>-100.0</td>\n      <td>-57.0</td>\n      <td>28.0</td>\n      <td>-85.0</td>\n      <td>-100.0</td>\n    </tr>\n    <tr>\n      <th>24</th>\n      <td>bro_026</td>\n      <td>2018-08-29 12:42:44</td>\n      <td>15637.0</td>\n      <td>-84.0</td>\n      <td>-78.0</td>\n      <td>-100.0</td>\n      <td>-100.0</td>\n      <td>-91.0</td>\n      <td>-90.0</td>\n      <td>-76.0</td>\n      <td>...</td>\n      <td>-18.0</td>\n      <td>62.0</td>\n      <td>100.0</td>\n      <td>13.0</td>\n      <td>29.0</td>\n      <td>38.0</td>\n      <td>49.0</td>\n      <td>40.0</td>\n      <td>63.0</td>\n      <td>-8.0</td>\n    </tr>\n    <tr>\n      <th>25</th>\n      <td>bro_027</td>\n      <td>2018-09-21 11:48:43</td>\n      <td>14012.0</td>\n      <td>-2.0</td>\n      <td>-100.0</td>\n      <td>-100.0</td>\n      <td>-100.0</td>\n      <td>-99.0</td>\n      <td>-100.0</td>\n      <td>-100.0</td>\n      <td>...</td>\n      <td>-100.0</td>\n      <td>-100.0</td>\n      <td>-45.0</td>\n      <td>-55.0</td>\n      <td>-100.0</td>\n      <td>-99.0</td>\n      <td>-2.0</td>\n      <td>-5.0</td>\n      <td>-100.0</td>\n      <td>-100.0</td>\n    </tr>\n    <tr>\n      <th>26</th>\n      <td>bro_028</td>\n      <td>2018-11-03 12:44:39</td>\n      <td>1007.0</td>\n      <td>-85.0</td>\n      <td>15.0</td>\n      <td>-100.0</td>\n      <td>-100.0</td>\n      <td>0.0</td>\n      <td>0.0</td>\n      <td>0.0</td>\n      <td>...</td>\n      <td>-100.0</td>\n      <td>-100.0</td>\n      <td>-100.0</td>\n      <td>94.0</td>\n      <td>-100.0</td>\n      <td>-100.0</td>\n      <td>-100.0</td>\n      <td>100.0</td>\n      <td>-97.0</td>\n      <td>-100.0</td>\n    </tr>\n    <tr>\n      <th>27</th>\n      <td>bro_029</td>\n      <td>2018-11-26 11:28:01</td>\n      <td>13136.0</td>\n      <td>24.0</td>\n      <td>-100.0</td>\n      <td>9.0</td>\n      <td>-100.0</td>\n      <td>28.0</td>\n      <td>-100.0</td>\n      <td>14.0</td>\n      <td>...</td>\n      <td>-100.0</td>\n      <td>-100.0</td>\n      <td>-2.0</td>\n      <td>-26.0</td>\n      <td>-100.0</td>\n      <td>-100.0</td>\n      <td>-100.0</td>\n      <td>48.0</td>\n      <td>-100.0</td>\n      <td>-99.0</td>\n    </tr>\n    <tr>\n      <th>28</th>\n      <td>bro_030</td>\n      <td>2018-11-07 14:25:00</td>\n      <td>16087.0</td>\n      <td>37.0</td>\n      <td>-74.0</td>\n      <td>32.0</td>\n      <td>-100.0</td>\n      <td>-100.0</td>\n      <td>-72.0</td>\n      <td>21.0</td>\n      <td>...</td>\n      <td>19.0</td>\n      <td>-78.0</td>\n      <td>-54.0</td>\n      <td>-53.0</td>\n      <td>43.0</td>\n      <td>-100.0</td>\n      <td>-68.0</td>\n      <td>29.0</td>\n      <td>24.0</td>\n      <td>-100.0</td>\n    </tr>\n    <tr>\n      <th>29</th>\n      <td>bro_031</td>\n      <td>2018-11-01 15:40:25</td>\n      <td>16778.0</td>\n      <td>85.0</td>\n      <td>-87.0</td>\n      <td>19.0</td>\n      <td>-72.0</td>\n      <td>17.0</td>\n      <td>-16.0</td>\n      <td>0.0</td>\n      <td>...</td>\n      <td>-56.0</td>\n      <td>-85.0</td>\n      <td>49.0</td>\n      <td>42.0</td>\n      <td>-54.0</td>\n      <td>-100.0</td>\n      <td>-28.0</td>\n      <td>68.0</td>\n      <td>28.0</td>\n      <td>-100.0</td>\n    </tr>\n    <tr>\n      <th>30</th>\n      <td>bro_032</td>\n      <td>2018-11-09 15:37:44</td>\n      <td>15602.0</td>\n      <td>43.0</td>\n      <td>-43.0</td>\n      <td>26.0</td>\n      <td>-100.0</td>\n      <td>54.0</td>\n      <td>-32.0</td>\n      <td>-20.0</td>\n      <td>...</td>\n      <td>-76.0</td>\n      <td>-100.0</td>\n      <td>55.0</td>\n      <td>-43.0</td>\n      <td>-64.0</td>\n      <td>-100.0</td>\n      <td>-87.0</td>\n      <td>80.0</td>\n      <td>-87.0</td>\n      <td>-100.0</td>\n    </tr>\n    <tr>\n      <th>31</th>\n      <td>bro_033</td>\n      <td>2018-11-29 15:36:37</td>\n      <td>15875.0</td>\n      <td>52.0</td>\n      <td>-15.0</td>\n      <td>35.0</td>\n      <td>9.0</td>\n      <td>-11.0</td>\n      <td>-14.0</td>\n      <td>-31.0</td>\n      <td>...</td>\n      <td>47.0</td>\n      <td>13.0</td>\n      <td>-15.0</td>\n      <td>16.0</td>\n      <td>-19.0</td>\n      <td>9.0</td>\n      <td>-51.0</td>\n      <td>73.0</td>\n      <td>-56.0</td>\n      <td>-55.0</td>\n    </tr>\n    <tr>\n      <th>32</th>\n      <td>bro_034</td>\n      <td>2018-12-06 4:48:44</td>\n      <td>14876.0</td>\n      <td>-30.0</td>\n      <td>-49.0</td>\n      <td>-56.0</td>\n      <td>-88.0</td>\n      <td>4.0</td>\n      <td>-80.0</td>\n      <td>21.0</td>\n      <td>...</td>\n      <td>-56.0</td>\n      <td>-75.0</td>\n      <td>-78.0</td>\n      <td>33.0</td>\n      <td>-7.0</td>\n      <td>-91.0</td>\n      <td>-66.0</td>\n      <td>24.0</td>\n      <td>13.0</td>\n      <td>-100.0</td>\n    </tr>\n    <tr>\n      <th>33</th>\n      <td>bro_035</td>\n      <td>2018-12-21 5:28:03</td>\n      <td>15296.0</td>\n      <td>28.0</td>\n      <td>-69.0</td>\n      <td>-16.0</td>\n      <td>-42.0</td>\n      <td>-67.0</td>\n      <td>-31.0</td>\n      <td>22.0</td>\n      <td>...</td>\n      <td>NaN</td>\n      <td>NaN</td>\n      <td>NaN</td>\n      <td>NaN</td>\n      <td>NaN</td>\n      <td>NaN</td>\n      <td>NaN</td>\n      <td>NaN</td>\n      <td>NaN</td>\n      <td>NaN</td>\n    </tr>\n    <tr>\n      <th>34</th>\n      <td>bro_036</td>\n      <td>2018-12-20 4:39:09</td>\n      <td>14315.0</td>\n      <td>48.0</td>\n      <td>-39.0</td>\n      <td>26.0</td>\n      <td>-100.0</td>\n      <td>52.0</td>\n      <td>-64.0</td>\n      <td>17.0</td>\n      <td>...</td>\n      <td>0.0</td>\n      <td>-100.0</td>\n      <td>70.0</td>\n      <td>-81.0</td>\n      <td>-6.0</td>\n      <td>-100.0</td>\n      <td>-16.0</td>\n      <td>-31.0</td>\n      <td>-39.0</td>\n      <td>-100.0</td>\n    </tr>\n    <tr>\n      <th>35</th>\n      <td>bro_037</td>\n      <td>2018-12-20 4:39:09</td>\n      <td>14315.0</td>\n      <td>48.0</td>\n      <td>-39.0</td>\n      <td>26.0</td>\n      <td>-100.0</td>\n      <td>52.0</td>\n      <td>-64.0</td>\n      <td>17.0</td>\n      <td>...</td>\n      <td>NaN</td>\n      <td>NaN</td>\n      <td>NaN</td>\n      <td>NaN</td>\n      <td>NaN</td>\n      <td>NaN</td>\n      <td>NaN</td>\n      <td>NaN</td>\n      <td>NaN</td>\n      <td>NaN</td>\n    </tr>\n    <tr>\n      <th>36</th>\n      <td>bro_038</td>\n      <td>2019-01-23 15:10:06</td>\n      <td>16129.0</td>\n      <td>41.0</td>\n      <td>-55.0</td>\n      <td>25.0</td>\n      <td>-100.0</td>\n      <td>-72.0</td>\n      <td>-57.0</td>\n      <td>23.0</td>\n      <td>...</td>\n      <td>45.0</td>\n      <td>25.0</td>\n      <td>24.0</td>\n      <td>-21.0</td>\n      <td>33.0</td>\n      <td>-100.0</td>\n      <td>-3.0</td>\n      <td>21.0</td>\n      <td>50.0</td>\n      <td>-100.0</td>\n    </tr>\n    <tr>\n      <th>37</th>\n      <td>bro_039</td>\n      <td>2018-12-19 5:32:21</td>\n      <td>172536.0</td>\n      <td>22.0</td>\n      <td>-100.0</td>\n      <td>-2.0</td>\n      <td>-100.0</td>\n      <td>-47.0</td>\n      <td>-100.0</td>\n      <td>0.0</td>\n      <td>...</td>\n      <td>26.0</td>\n      <td>-100.0</td>\n      <td>23.0</td>\n      <td>0.0</td>\n      <td>30.0</td>\n      <td>-100.0</td>\n      <td>-31.0</td>\n      <td>50.0</td>\n      <td>38.0</td>\n      <td>-95.0</td>\n    </tr>\n    <tr>\n      <th>38</th>\n      <td>bro_040</td>\n      <td>2019-02-26 6:33:47</td>\n      <td>15837.0</td>\n      <td>-26.0</td>\n      <td>-100.0</td>\n      <td>-28.0</td>\n      <td>-100.0</td>\n      <td>-44.0</td>\n      <td>-100.0</td>\n      <td>-100.0</td>\n      <td>...</td>\n      <td>NaN</td>\n      <td>NaN</td>\n      <td>NaN</td>\n      <td>NaN</td>\n      <td>NaN</td>\n      <td>NaN</td>\n      <td>NaN</td>\n      <td>NaN</td>\n      <td>NaN</td>\n      <td>NaN</td>\n    </tr>\n    <tr>\n      <th>39</th>\n      <td>bro_041</td>\n      <td>2019-02-05 15:43:34</td>\n      <td>15294.0</td>\n      <td>55.0</td>\n      <td>-87.0</td>\n      <td>28.0</td>\n      <td>-100.0</td>\n      <td>-55.0</td>\n      <td>-19.0</td>\n      <td>14.0</td>\n      <td>...</td>\n      <td>-100.0</td>\n      <td>24.0</td>\n      <td>-33.0</td>\n      <td>27.0</td>\n      <td>-54.0</td>\n      <td>-100.0</td>\n      <td>-32.0</td>\n      <td>50.0</td>\n      <td>-100.0</td>\n      <td>-77.0</td>\n    </tr>\n    <tr>\n      <th>40</th>\n      <td>bro_042</td>\n      <td>2019-02-19 15:24:23</td>\n      <td>18316.0</td>\n      <td>94.0</td>\n      <td>-94.0</td>\n      <td>32.0</td>\n      <td>-100.0</td>\n      <td>30.0</td>\n      <td>-44.0</td>\n      <td>-82.0</td>\n      <td>...</td>\n      <td>NaN</td>\n      <td>NaN</td>\n      <td>NaN</td>\n      <td>NaN</td>\n      <td>NaN</td>\n      <td>NaN</td>\n      <td>NaN</td>\n      <td>NaN</td>\n      <td>NaN</td>\n      <td>NaN</td>\n    </tr>\n    <tr>\n      <th>41</th>\n      <td>bro_043</td>\n      <td>2019-03-05 11:17:46</td>\n      <td>15808.0</td>\n      <td>36.0</td>\n      <td>-51.0</td>\n      <td>-52.0</td>\n      <td>-100.0</td>\n      <td>32.0</td>\n      <td>-51.0</td>\n      <td>-44.0</td>\n      <td>...</td>\n      <td>-58.0</td>\n      <td>22.0</td>\n      <td>-97.0</td>\n      <td>32.0</td>\n      <td>-55.0</td>\n      <td>9.0</td>\n      <td>-100.0</td>\n      <td>61.0</td>\n      <td>-100.0</td>\n      <td>21.0</td>\n    </tr>\n    <tr>\n      <th>42</th>\n      <td>bro_044</td>\n      <td>2019-03-08 7:37:40</td>\n      <td>15312.0</td>\n      <td>30.0</td>\n      <td>-12.0</td>\n      <td>24.0</td>\n      <td>-100.0</td>\n      <td>8.0</td>\n      <td>-19.0</td>\n      <td>-12.0</td>\n      <td>...</td>\n      <td>-85.0</td>\n      <td>-61.0</td>\n      <td>-80.0</td>\n      <td>64.0</td>\n      <td>-78.0</td>\n      <td>-58.0</td>\n      <td>-96.0</td>\n      <td>95.0</td>\n      <td>-82.0</td>\n      <td>-89.0</td>\n    </tr>\n    <tr>\n      <th>43</th>\n      <td>bro_045</td>\n      <td>2019-02-21 10:43:41</td>\n      <td>15794.0</td>\n      <td>36.0</td>\n      <td>-57.0</td>\n      <td>-49.0</td>\n      <td>-100.0</td>\n      <td>47.0</td>\n      <td>-100.0</td>\n      <td>-67.0</td>\n      <td>...</td>\n      <td>-19.0</td>\n      <td>31.0</td>\n      <td>64.0</td>\n      <td>-57.0</td>\n      <td>65.0</td>\n      <td>23.0</td>\n      <td>58.0</td>\n      <td>-49.0</td>\n      <td>21.0</td>\n      <td>-11.0</td>\n    </tr>\n    <tr>\n      <th>44</th>\n      <td>bro_046</td>\n      <td>2019-03-27 9:18:49</td>\n      <td>15531.0</td>\n      <td>40.0</td>\n      <td>-100.0</td>\n      <td>-47.0</td>\n      <td>-100.0</td>\n      <td>20.0</td>\n      <td>-100.0</td>\n      <td>37.0</td>\n      <td>...</td>\n      <td>-96.0</td>\n      <td>-42.0</td>\n      <td>-80.0</td>\n      <td>52.0</td>\n      <td>-36.0</td>\n      <td>15.0</td>\n      <td>-74.0</td>\n      <td>51.0</td>\n      <td>-57.0</td>\n      <td>7.0</td>\n    </tr>\n    <tr>\n      <th>45</th>\n      <td>bro_047</td>\n      <td>2019-04-05 5:01:42</td>\n      <td>15828.0</td>\n      <td>0.0</td>\n      <td>-61.0</td>\n      <td>-99.0</td>\n      <td>-99.0</td>\n      <td>-41.0</td>\n      <td>-75.0</td>\n      <td>-70.0</td>\n      <td>...</td>\n      <td>-64.0</td>\n      <td>-42.0</td>\n      <td>32.0</td>\n      <td>13.0</td>\n      <td>-22.0</td>\n      <td>-19.0</td>\n      <td>NaN</td>\n      <td>NaN</td>\n      <td>NaN</td>\n      <td>NaN</td>\n    </tr>\n    <tr>\n      <th>46</th>\n      <td>bro_048</td>\n      <td>2019-05-08 7:28:29</td>\n      <td>19816.0</td>\n      <td>48.0</td>\n      <td>-10.0</td>\n      <td>-79.0</td>\n      <td>-100.0</td>\n      <td>29.0</td>\n      <td>-21.0</td>\n      <td>-78.0</td>\n      <td>...</td>\n      <td>-100.0</td>\n      <td>-100.0</td>\n      <td>-74.0</td>\n      <td>27.0</td>\n      <td>-92.0</td>\n      <td>-100.0</td>\n      <td>-50.0</td>\n      <td>35.0</td>\n      <td>-44.0</td>\n      <td>-100.0</td>\n    </tr>\n    <tr>\n      <th>47</th>\n      <td>bro_049</td>\n      <td>2019-05-13 13:55:45</td>\n      <td>14526.0</td>\n      <td>-31.0</td>\n      <td>0.0</td>\n      <td>-100.0</td>\n      <td>-100.0</td>\n      <td>57.0</td>\n      <td>-32.0</td>\n      <td>0.0</td>\n      <td>...</td>\n      <td>-100.0</td>\n      <td>-8.0</td>\n      <td>-100.0</td>\n      <td>93.0</td>\n      <td>0.0</td>\n      <td>-4.0</td>\n      <td>-100.0</td>\n      <td>96.0</td>\n      <td>-97.0</td>\n      <td>-79.0</td>\n    </tr>\n    <tr>\n      <th>48</th>\n      <td>bro_050</td>\n      <td>2019-05-13 9:52:49</td>\n      <td>15391.0</td>\n      <td>35.0</td>\n      <td>-83.0</td>\n      <td>-64.0</td>\n      <td>-84.0</td>\n      <td>-4.0</td>\n      <td>-20.0</td>\n      <td>33.0</td>\n      <td>...</td>\n      <td>27.0</td>\n      <td>-91.0</td>\n      <td>24.0</td>\n      <td>-23.0</td>\n      <td>-35.0</td>\n      <td>-100.0</td>\n      <td>-74.0</td>\n      <td>33.0</td>\n      <td>-42.0</td>\n      <td>-95.0</td>\n    </tr>\n    <tr>\n      <th>49</th>\n      <td>bro_051</td>\n      <td>2019-04-16 6:11:54</td>\n      <td>16231.0</td>\n      <td>47.0</td>\n      <td>-58.0</td>\n      <td>20.0</td>\n      <td>-25.0</td>\n      <td>23.0</td>\n      <td>-54.0</td>\n      <td>-24.0</td>\n      <td>...</td>\n      <td>14.0</td>\n      <td>44.0</td>\n      <td>26.0</td>\n      <td>-25.0</td>\n      <td>-14.0</td>\n      <td>-32.0</td>\n      <td>-71.0</td>\n      <td>37.0</td>\n      <td>-25.0</td>\n      <td>-61.0</td>\n    </tr>\n    <tr>\n      <th>50</th>\n      <td>bro_052</td>\n      <td>NaN</td>\n      <td>NaN</td>\n      <td>NaN</td>\n      <td>NaN</td>\n      <td>NaN</td>\n      <td>NaN</td>\n      <td>NaN</td>\n      <td>NaN</td>\n      <td>NaN</td>\n      <td>...</td>\n      <td>-100.0</td>\n      <td>-94.0</td>\n      <td>-100.0</td>\n      <td>86.0</td>\n      <td>-100.0</td>\n      <td>-72.0</td>\n      <td>-100.0</td>\n      <td>58.0</td>\n      <td>-100.0</td>\n      <td>-100.0</td>\n    </tr>\n    <tr>\n      <th>51</th>\n      <td>bro_053</td>\n      <td>2019-07-09 16:07:05</td>\n      <td>16171.0</td>\n      <td>56.0</td>\n      <td>-78.0</td>\n      <td>-79.0</td>\n      <td>-100.0</td>\n      <td>70.0</td>\n      <td>-65.0</td>\n      <td>-86.0</td>\n      <td>...</td>\n      <td>-100.0</td>\n      <td>49.0</td>\n      <td>-43.0</td>\n      <td>-31.0</td>\n      <td>-100.0</td>\n      <td>51.0</td>\n      <td>-60.0</td>\n      <td>31.0</td>\n      <td>-88.0</td>\n      <td>-40.0</td>\n    </tr>\n    <tr>\n      <th>52</th>\n      <td>bro_054</td>\n      <td>2019-09-09 14:58:44</td>\n      <td>15133.0</td>\n      <td>57.0</td>\n      <td>-100.0</td>\n      <td>44.0</td>\n      <td>-100.0</td>\n      <td>53.0</td>\n      <td>-100.0</td>\n      <td>31.0</td>\n      <td>...</td>\n      <td>-100.0</td>\n      <td>-100.0</td>\n      <td>33.0</td>\n      <td>-4.0</td>\n      <td>-100.0</td>\n      <td>-100.0</td>\n      <td>0.0</td>\n      <td>-44.0</td>\n      <td>-100.0</td>\n      <td>-100.0</td>\n    </tr>\n    <tr>\n      <th>53</th>\n      <td>bro_055</td>\n      <td>2019-08-20 14:46:24</td>\n      <td>14916.0</td>\n      <td>39.0</td>\n      <td>35.0</td>\n      <td>59.0</td>\n      <td>-100.0</td>\n      <td>14.0</td>\n      <td>35.0</td>\n      <td>49.0</td>\n      <td>...</td>\n      <td>14.0</td>\n      <td>17.0</td>\n      <td>40.0</td>\n      <td>-22.0</td>\n      <td>14.0</td>\n      <td>-27.0</td>\n      <td>-12.0</td>\n      <td>53.0</td>\n      <td>23.0</td>\n      <td>-91.0</td>\n    </tr>\n    <tr>\n      <th>54</th>\n      <td>bro_056</td>\n      <td>2019-08-26 14:44:55</td>\n      <td>16096.0</td>\n      <td>20.0</td>\n      <td>-42.0</td>\n      <td>-77.0</td>\n      <td>-96.0</td>\n      <td>28.0</td>\n      <td>-81.0</td>\n      <td>-69.0</td>\n      <td>...</td>\n      <td>-44.0</td>\n      <td>5.0</td>\n      <td>-29.0</td>\n      <td>9.0</td>\n      <td>16.0</td>\n      <td>-40.0</td>\n      <td>-62.0</td>\n      <td>29.0</td>\n      <td>-40.0</td>\n      <td>-28.0</td>\n    </tr>\n  </tbody>\n</table>\n<p>55 rows × 45 columns</p>\n</div>",
          "text/plain": "   participantID         StartDate_v1  Duration (in seconds)_v1  hungry1_1_v1  \\\n0        bro_001  2017-10-25 13:32:05                   13425.0          -3.0   \n1        bro_002  2017-10-27 13:46:18                   14626.0          73.0   \n2        bro_003   2018-01-27 6:45:37                   15389.0           9.0   \n3        bro_004  2018-03-06 15:40:07                   15690.0           2.0   \n4        bro_005  2017-10-21 12:01:07                    4064.0          56.0   \n5        bro_006   2018-01-06 5:51:39                   14378.0          21.0   \n6        bro_007   2018-03-09 8:26:52                   16080.0          44.0   \n7        bro_008  2017-11-06 16:12:21                   13658.0          45.0   \n8        bro_009   2017-11-18 5:23:07                   16399.0          -6.0   \n9        bro_010  2017-11-18 10:14:11                   15080.0          53.0   \n10       bro_011   2017-11-07 4:14:28                   15367.0         -60.0   \n11       bro_012   2017-11-06 4:28:03                   15360.0          19.0   \n12       bro_013  2018-03-21 11:23:45                   16988.0         -57.0   \n13       bro_014   2017-12-07 6:28:24                   17885.0          71.0   \n14       bro_015  2017-12-08 11:02:05                   15073.0          54.0   \n15       bro_016  2017-12-04 15:43:55                   14394.0         -40.0   \n16       bro_017  2018-03-29 12:07:59                   13099.0          47.0   \n17       bro_018   2018-04-10 5:01:05                    9166.0          93.0   \n18       bro_019  2018-04-30 14:59:50                   14782.0          74.0   \n19       bro_020  2018-05-14 14:49:53                   13288.0          92.0   \n20       bro_021  2018-05-21 14:47:35                   20426.0          21.0   \n21       bro_022   2018-07-24 4:40:34                   15388.0           1.0   \n22       bro_023  2018-08-30 13:45:00                   15083.0          59.0   \n23       bro_025  2018-08-22 15:40:10                   14536.0          67.0   \n24       bro_026  2018-08-29 12:42:44                   15637.0         -84.0   \n25       bro_027  2018-09-21 11:48:43                   14012.0          -2.0   \n26       bro_028  2018-11-03 12:44:39                    1007.0         -85.0   \n27       bro_029  2018-11-26 11:28:01                   13136.0          24.0   \n28       bro_030  2018-11-07 14:25:00                   16087.0          37.0   \n29       bro_031  2018-11-01 15:40:25                   16778.0          85.0   \n30       bro_032  2018-11-09 15:37:44                   15602.0          43.0   \n31       bro_033  2018-11-29 15:36:37                   15875.0          52.0   \n32       bro_034   2018-12-06 4:48:44                   14876.0         -30.0   \n33       bro_035   2018-12-21 5:28:03                   15296.0          28.0   \n34       bro_036   2018-12-20 4:39:09                   14315.0          48.0   \n35       bro_037   2018-12-20 4:39:09                   14315.0          48.0   \n36       bro_038  2019-01-23 15:10:06                   16129.0          41.0   \n37       bro_039   2018-12-19 5:32:21                  172536.0          22.0   \n38       bro_040   2019-02-26 6:33:47                   15837.0         -26.0   \n39       bro_041  2019-02-05 15:43:34                   15294.0          55.0   \n40       bro_042  2019-02-19 15:24:23                   18316.0          94.0   \n41       bro_043  2019-03-05 11:17:46                   15808.0          36.0   \n42       bro_044   2019-03-08 7:37:40                   15312.0          30.0   \n43       bro_045  2019-02-21 10:43:41                   15794.0          36.0   \n44       bro_046   2019-03-27 9:18:49                   15531.0          40.0   \n45       bro_047   2019-04-05 5:01:42                   15828.0           0.0   \n46       bro_048   2019-05-08 7:28:29                   19816.0          48.0   \n47       bro_049  2019-05-13 13:55:45                   14526.0         -31.0   \n48       bro_050   2019-05-13 9:52:49                   15391.0          35.0   \n49       bro_051   2019-04-16 6:11:54                   16231.0          47.0   \n50       bro_052                  NaN                       NaN           NaN   \n51       bro_053  2019-07-09 16:07:05                   16171.0          56.0   \n52       bro_054  2019-09-09 14:58:44                   15133.0          57.0   \n53       bro_055  2019-08-20 14:46:24                   14916.0          39.0   \n54       bro_056  2019-08-26 14:44:55                   16096.0          20.0   \n\n    full1_1_v1  thirsty1_1_v1  nauseous1_1_v1  hungry2_1_v1  full2_1_v1  \\\n0          0.0            0.0          -100.0          11.0         0.0   \n1       -100.0          -28.0             0.0          55.0      -100.0   \n2        -11.0          -50.0             9.0          23.0        -8.0   \n3          0.0           38.0             7.0          27.0        16.0   \n4        -63.0          -57.0           -19.0          60.0       -46.0   \n5        -30.0          -72.0          -100.0         -33.0       -16.0   \n6        -30.0           19.0            19.0          22.0       -35.0   \n7        -71.0            0.0          -100.0          49.0       -26.0   \n8          0.0           -6.0          -100.0          -4.0       -30.0   \n9        -21.0          -53.0           -44.0          30.0       -48.0   \n10       -23.0          -29.0          -100.0         -21.0       -35.0   \n11       -45.0          -98.0           -80.0          20.0       -70.0   \n12      -100.0          -54.0          -100.0          35.0      -100.0   \n13      -100.0           37.0           -67.0          59.0       -40.0   \n14       -70.0            9.0          -100.0          39.0       -68.0   \n15       -11.0            0.0             0.0         -23.0       -12.0   \n16       -93.0           27.0          -100.0          33.0       -53.0   \n17       -86.0          -28.0          -100.0          72.0       -86.0   \n18      -100.0           58.0          -100.0          82.0      -100.0   \n19      -100.0           58.0          -100.0          88.0      -100.0   \n20       -86.0           14.0          -100.0          -2.0       -56.0   \n21        -2.0           -5.0            -2.0          -3.0       -19.0   \n22       -53.0            3.0          -100.0          33.0       -18.0   \n23       -89.0           26.0          -100.0          67.0       -96.0   \n24       -78.0         -100.0          -100.0         -91.0       -90.0   \n25      -100.0         -100.0          -100.0         -99.0      -100.0   \n26        15.0         -100.0          -100.0           0.0         0.0   \n27      -100.0            9.0          -100.0          28.0      -100.0   \n28       -74.0           32.0          -100.0        -100.0       -72.0   \n29       -87.0           19.0           -72.0          17.0       -16.0   \n30       -43.0           26.0          -100.0          54.0       -32.0   \n31       -15.0           35.0             9.0         -11.0       -14.0   \n32       -49.0          -56.0           -88.0           4.0       -80.0   \n33       -69.0          -16.0           -42.0         -67.0       -31.0   \n34       -39.0           26.0          -100.0          52.0       -64.0   \n35       -39.0           26.0          -100.0          52.0       -64.0   \n36       -55.0           25.0          -100.0         -72.0       -57.0   \n37      -100.0           -2.0          -100.0         -47.0      -100.0   \n38      -100.0          -28.0          -100.0         -44.0      -100.0   \n39       -87.0           28.0          -100.0         -55.0       -19.0   \n40       -94.0           32.0          -100.0          30.0       -44.0   \n41       -51.0          -52.0          -100.0          32.0       -51.0   \n42       -12.0           24.0          -100.0           8.0       -19.0   \n43       -57.0          -49.0          -100.0          47.0      -100.0   \n44      -100.0          -47.0          -100.0          20.0      -100.0   \n45       -61.0          -99.0           -99.0         -41.0       -75.0   \n46       -10.0          -79.0          -100.0          29.0       -21.0   \n47         0.0         -100.0          -100.0          57.0       -32.0   \n48       -83.0          -64.0           -84.0          -4.0       -20.0   \n49       -58.0           20.0           -25.0          23.0       -54.0   \n50         NaN            NaN             NaN           NaN         NaN   \n51       -78.0          -79.0          -100.0          70.0       -65.0   \n52      -100.0           44.0          -100.0          53.0      -100.0   \n53        35.0           59.0          -100.0          14.0        35.0   \n54       -42.0          -77.0           -96.0          28.0       -81.0   \n\n    thirsty2_1_v1  ...  thirsty3_1_v2  nauseous3_1_v2  hungry4_1_v2  \\\n0             0.0  ...           14.0             0.0         -61.0   \n1           -81.0  ...           12.0             0.0         -68.0   \n2            23.0  ...          -71.0           -25.0         -59.0   \n3            26.0  ...          -16.0           -55.0           0.0   \n4           -71.0  ...            NaN             NaN           NaN   \n5            40.0  ...           47.0            37.0         -65.0   \n6            32.0  ...           41.0           -31.0          25.0   \n7             0.0  ...           17.0           -98.0          36.0   \n8             1.0  ...           25.0             0.0          19.0   \n9            11.0  ...            0.0             0.0          51.0   \n10          -87.0  ...         -100.0          -100.0         -13.0   \n11          -61.0  ...           12.0            59.0          21.0   \n12           20.0  ...         -100.0          -100.0        -100.0   \n13           18.0  ...            6.0           -66.0        -100.0   \n14            6.0  ...          -28.0           -95.0          33.0   \n15          -33.0  ...          -91.0           -87.0        -100.0   \n16           33.0  ...          -57.0             7.0         -93.0   \n17          -33.0  ...          -22.0           -72.0          52.0   \n18           72.0  ...           60.0          -100.0          78.0   \n19           64.0  ...            NaN             NaN           NaN   \n20           10.0  ...           49.0           -97.0         -76.0   \n21           28.0  ...           70.0          -100.0         -97.0   \n22           15.0  ...         -100.0            29.0         -22.0   \n23           34.0  ...          -29.0           -91.0          25.0   \n24          -76.0  ...          -18.0            62.0         100.0   \n25         -100.0  ...         -100.0          -100.0         -45.0   \n26            0.0  ...         -100.0          -100.0        -100.0   \n27           14.0  ...         -100.0          -100.0          -2.0   \n28           21.0  ...           19.0           -78.0         -54.0   \n29            0.0  ...          -56.0           -85.0          49.0   \n30          -20.0  ...          -76.0          -100.0          55.0   \n31          -31.0  ...           47.0            13.0         -15.0   \n32           21.0  ...          -56.0           -75.0         -78.0   \n33           22.0  ...            NaN             NaN           NaN   \n34           17.0  ...            0.0          -100.0          70.0   \n35           17.0  ...            NaN             NaN           NaN   \n36           23.0  ...           45.0            25.0          24.0   \n37            0.0  ...           26.0          -100.0          23.0   \n38         -100.0  ...            NaN             NaN           NaN   \n39           14.0  ...         -100.0            24.0         -33.0   \n40          -82.0  ...            NaN             NaN           NaN   \n41          -44.0  ...          -58.0            22.0         -97.0   \n42          -12.0  ...          -85.0           -61.0         -80.0   \n43          -67.0  ...          -19.0            31.0          64.0   \n44           37.0  ...          -96.0           -42.0         -80.0   \n45          -70.0  ...          -64.0           -42.0          32.0   \n46          -78.0  ...         -100.0          -100.0         -74.0   \n47            0.0  ...         -100.0            -8.0        -100.0   \n48           33.0  ...           27.0           -91.0          24.0   \n49          -24.0  ...           14.0            44.0          26.0   \n50            NaN  ...         -100.0           -94.0        -100.0   \n51          -86.0  ...         -100.0            49.0         -43.0   \n52           31.0  ...         -100.0          -100.0          33.0   \n53           49.0  ...           14.0            17.0          40.0   \n54          -69.0  ...          -44.0             5.0         -29.0   \n\n    full4_1_v2  thirsty4_1_v2  nauseous4_1_v2  hungry5_1_v2  full5_1_v2  \\\n0         80.0          -65.0            -9.0         -58.0        61.0   \n1          5.0            0.0             0.0         -48.0        61.0   \n2         48.0          -34.0           -44.0           NaN         NaN   \n3         10.0           27.0           -47.0          52.0         0.0   \n4          NaN            NaN             NaN           NaN         NaN   \n5        -19.0           43.0            53.0          22.0       -19.0   \n6        -28.0           26.0            17.0          45.0         0.0   \n7        -57.0            0.0           -86.0         -56.0        54.0   \n8         -8.0           19.0            -3.0         -30.0        30.0   \n9        -17.0          -73.0             0.0         -51.0         0.0   \n10       -12.0          -84.0             0.0          11.0       -21.0   \n11        48.0          -29.0            83.0          11.0        12.0   \n12        73.0         -100.0           -53.0        -100.0        60.0   \n13        21.0           13.0           -77.0          -9.0        -5.0   \n14       -53.0          -12.0           -86.0          51.0       -66.0   \n15        22.0          -35.0          -100.0          -4.0         0.0   \n16        64.0          -36.0            58.0         -80.0        70.0   \n17       -35.0           23.0           -94.0         -60.0        37.0   \n18        32.0           43.0          -100.0         -80.0        16.0   \n19         NaN            NaN             NaN           NaN         NaN   \n20       -55.0           27.0          -100.0        -100.0        23.0   \n21         0.0           31.0          -100.0        -100.0         0.0   \n22        41.0          -91.0           -89.0           NaN         NaN   \n23       -42.0          -90.0          -100.0         -57.0        28.0   \n24        13.0           29.0            38.0          49.0        40.0   \n25       -55.0         -100.0           -99.0          -2.0        -5.0   \n26        94.0         -100.0          -100.0        -100.0       100.0   \n27       -26.0         -100.0          -100.0        -100.0        48.0   \n28       -53.0           43.0          -100.0         -68.0        29.0   \n29        42.0          -54.0          -100.0         -28.0        68.0   \n30       -43.0          -64.0          -100.0         -87.0        80.0   \n31        16.0          -19.0             9.0         -51.0        73.0   \n32        33.0           -7.0           -91.0         -66.0        24.0   \n33         NaN            NaN             NaN           NaN         NaN   \n34       -81.0           -6.0          -100.0         -16.0       -31.0   \n35         NaN            NaN             NaN           NaN         NaN   \n36       -21.0           33.0          -100.0          -3.0        21.0   \n37         0.0           30.0          -100.0         -31.0        50.0   \n38         NaN            NaN             NaN           NaN         NaN   \n39        27.0          -54.0          -100.0         -32.0        50.0   \n40         NaN            NaN             NaN           NaN         NaN   \n41        32.0          -55.0             9.0        -100.0        61.0   \n42        64.0          -78.0           -58.0         -96.0        95.0   \n43       -57.0           65.0            23.0          58.0       -49.0   \n44        52.0          -36.0            15.0         -74.0        51.0   \n45        13.0          -22.0           -19.0           NaN         NaN   \n46        27.0          -92.0          -100.0         -50.0        35.0   \n47        93.0            0.0            -4.0        -100.0        96.0   \n48       -23.0          -35.0          -100.0         -74.0        33.0   \n49       -25.0          -14.0           -32.0         -71.0        37.0   \n50        86.0         -100.0           -72.0        -100.0        58.0   \n51       -31.0         -100.0            51.0         -60.0        31.0   \n52        -4.0         -100.0          -100.0           0.0       -44.0   \n53       -22.0           14.0           -27.0         -12.0        53.0   \n54         9.0           16.0           -40.0         -62.0        29.0   \n\n    thirsty5_1_v2  nauseous5_1_v2  \n0           -72.0           -77.0  \n1            44.0           -52.0  \n2             NaN             NaN  \n3            34.0           -77.0  \n4             NaN             NaN  \n5            35.0            14.0  \n6             0.0           -65.0  \n7          -100.0           -55.0  \n8             0.0           -52.0  \n9             8.0             0.0  \n10            0.0          -100.0  \n11          -47.0            19.0  \n12         -100.0           -57.0  \n13           15.0           -26.0  \n14          -29.0           -95.0  \n15            0.0             1.0  \n16          -23.0            38.0  \n17           36.0           -97.0  \n18          -43.0            36.0  \n19            NaN             NaN  \n20           35.0          -100.0  \n21          -96.0           -91.0  \n22            NaN             NaN  \n23          -85.0          -100.0  \n24           63.0            -8.0  \n25         -100.0          -100.0  \n26          -97.0          -100.0  \n27         -100.0           -99.0  \n28           24.0          -100.0  \n29           28.0          -100.0  \n30          -87.0          -100.0  \n31          -56.0           -55.0  \n32           13.0          -100.0  \n33            NaN             NaN  \n34          -39.0          -100.0  \n35            NaN             NaN  \n36           50.0          -100.0  \n37           38.0           -95.0  \n38            NaN             NaN  \n39         -100.0           -77.0  \n40            NaN             NaN  \n41         -100.0            21.0  \n42          -82.0           -89.0  \n43           21.0           -11.0  \n44          -57.0             7.0  \n45            NaN             NaN  \n46          -44.0          -100.0  \n47          -97.0           -79.0  \n48          -42.0           -95.0  \n49          -25.0           -61.0  \n50         -100.0          -100.0  \n51          -88.0           -40.0  \n52         -100.0          -100.0  \n53           23.0           -91.0  \n54          -40.0           -28.0  \n\n[55 rows x 45 columns]"
         },
         "metadata": {},
         "output_type": "display_data"
        }
       ]
      }
     },
     "5020fca3b8914d12af4bed169ee12e62": {
      "model_module": "@jupyter-widgets/controls",
      "model_module_version": "1.5.0",
      "model_name": "DropdownModel",
      "state": {
       "_options_labels": [
        "ALL",
        "bro_001",
        "bro_002",
        "bro_003",
        "bro_004",
        "bro_006",
        "bro_007",
        "bro_008",
        "bro_009",
        "bro_010",
        "bro_011",
        "bro_012",
        "bro_013",
        "bro_014",
        "bro_015",
        "bro_016",
        "bro_017",
        "bro_018",
        "bro_019",
        "bro_020",
        "bro_021",
        "bro_022",
        "bro_023",
        "bro_025",
        "bro_026",
        "bro_027",
        "bro_028",
        "bro_029",
        "bro_030",
        "bro_031",
        "bro_032",
        "bro_033",
        "bro_034",
        "bro_035",
        "bro_036",
        "bro_037",
        "bro_038",
        "bro_039",
        "bro_040",
        "bro_041",
        "bro_042",
        "bro_043",
        "bro_044",
        "bro_045",
        "bro_046",
        "bro_047",
        "bro_048",
        "bro_049",
        "bro_050",
        "bro_051",
        "bro_052",
        "bro_053",
        "bro_054",
        "bro_055",
        "bro_056"
       ],
       "description": "subject",
       "index": 2,
       "layout": "IPY_MODEL_6eb3d98bb86b4154b65c71e692349e54",
       "style": "IPY_MODEL_60e49bdc3ed14be4a37fcdd0ec3e8ea9"
      }
     },
     "541fb9ab4f1a4602aee49fe68c8db23b": {
      "model_module": "@jupyter-widgets/controls",
      "model_module_version": "1.5.0",
      "model_name": "DropdownModel",
      "state": {
       "_options_labels": [
        "bro_survey_data_str.csv",
        "bro_taqstatus.csv",
        "bro_check_data_01_31_2020.csv",
        "bro_vas_data.csv",
        "bro_survey_data_calc.csv",
        "bro_taste_test_data.csv",
        "bro_demographics.csv",
        "bro_screening_data.csv",
        "bro_blood_data_02_06_2020_10.19.csv",
        "bro_survey_data_num.csv"
       ],
       "description": "file",
       "index": 0,
       "layout": "IPY_MODEL_5b2c61e07b294f638cc4f1b2a652760c",
       "style": "IPY_MODEL_94a1cc25e17f4f369c8dbc23593252b9"
      }
     },
     "5a92179124124e10b596e13fcc75ee62": {
      "model_module": "@jupyter-widgets/output",
      "model_module_version": "1.0.0",
      "model_name": "OutputModel",
      "state": {
       "layout": "IPY_MODEL_d8076b7d2a2f4d379db674739266b663",
       "outputs": [
        {
         "data": {
          "text/html": "<div>\n<style scoped>\n    .dataframe tbody tr th:only-of-type {\n        vertical-align: middle;\n    }\n\n    .dataframe tbody tr th {\n        vertical-align: top;\n    }\n\n    .dataframe thead th {\n        text-align: right;\n    }\n</style>\n<table border=\"1\" class=\"dataframe\">\n  <thead>\n    <tr style=\"text-align: right;\">\n      <th></th>\n      <th>participantID</th>\n      <th>assessor_v1</th>\n      <th>date_v1</th>\n      <th>drugcheck_v1</th>\n      <th>drugtime_v1</th>\n      <th>weight1_1_v1</th>\n      <th>weight2_1_v1</th>\n      <th>hand1_v1</th>\n      <th>hand2_v1</th>\n      <th>hand3_v1</th>\n      <th>...</th>\n      <th>psqi7_v2</th>\n      <th>psqi8_v2</th>\n      <th>psqi10_v2</th>\n      <th>psqi11_1_v2</th>\n      <th>psqi11_2_v2</th>\n      <th>psqi11_3_v2</th>\n      <th>psqi11_4_v2</th>\n      <th>psqi11_5a_v2</th>\n      <th>psqi11_5b_v2</th>\n      <th>pre_ID</th>\n    </tr>\n  </thead>\n  <tbody>\n    <tr>\n      <th>1</th>\n      <td>bro_002</td>\n      <td>Shearrer</td>\n      <td>10/27/2017</td>\n      <td>yes</td>\n      <td>4:43</td>\n      <td>87.2</td>\n      <td>86.5</td>\n      <td>Right</td>\n      <td>Right</td>\n      <td>Right</td>\n      <td>...</td>\n      <td>Less than once a week</td>\n      <td>Only a very slight problem</td>\n      <td>Partner/room mate in other room</td>\n      <td>Not in past month</td>\n      <td>Not in past month</td>\n      <td>Not in past month</td>\n      <td>Not in past month</td>\n      <td>NaN</td>\n      <td>Not at all in the past month</td>\n      <td>pre_bro022</td>\n    </tr>\n  </tbody>\n</table>\n<p>1 rows × 595 columns</p>\n</div>",
          "text/plain": "  participantID assessor_v1     date_v1 drugcheck_v1 drugtime_v1  \\\n1       bro_002    Shearrer  10/27/2017          yes        4:43   \n\n   weight1_1_v1  weight2_1_v1 hand1_v1 hand2_v1 hand3_v1  ...  \\\n1          87.2          86.5    Right    Right    Right  ...   \n\n                psqi7_v2                    psqi8_v2  \\\n1  Less than once a week  Only a very slight problem   \n\n                         psqi10_v2        psqi11_1_v2        psqi11_2_v2  \\\n1  Partner/room mate in other room  Not in past month  Not in past month   \n\n         psqi11_3_v2        psqi11_4_v2 psqi11_5a_v2  \\\n1  Not in past month  Not in past month          NaN   \n\n                   psqi11_5b_v2      pre_ID  \n1  Not at all in the past month  pre_bro022  \n\n[1 rows x 595 columns]"
         },
         "metadata": {},
         "output_type": "display_data"
        }
       ]
      }
     },
     "5b2c61e07b294f638cc4f1b2a652760c": {
      "model_module": "@jupyter-widgets/base",
      "model_module_version": "1.2.0",
      "model_name": "LayoutModel",
      "state": {}
     },
     "60e49bdc3ed14be4a37fcdd0ec3e8ea9": {
      "model_module": "@jupyter-widgets/controls",
      "model_module_version": "1.5.0",
      "model_name": "DescriptionStyleModel",
      "state": {
       "description_width": ""
      }
     },
     "667de52f10cf4e4f95282385a92bfb0d": {
      "model_module": "@jupyter-widgets/controls",
      "model_module_version": "1.5.0",
      "model_name": "VBoxModel",
      "state": {
       "_dom_classes": [
        "widget-interact"
       ],
       "children": [
        "IPY_MODEL_541fb9ab4f1a4602aee49fe68c8db23b",
        "IPY_MODEL_5020fca3b8914d12af4bed169ee12e62",
        "IPY_MODEL_5a92179124124e10b596e13fcc75ee62"
       ],
       "layout": "IPY_MODEL_ff62b4f8f51a412b80c0815e8ff411c2"
      }
     },
     "6eb3d98bb86b4154b65c71e692349e54": {
      "model_module": "@jupyter-widgets/base",
      "model_module_version": "1.2.0",
      "model_name": "LayoutModel",
      "state": {}
     },
     "72c9de6ecfcd4793934d97dd06d9385a": {
      "model_module": "@jupyter-widgets/controls",
      "model_module_version": "1.5.0",
      "model_name": "DropdownModel",
      "state": {
       "_options_labels": [
        "bro_survey_data_str.csv",
        "bro_taqstatus.csv",
        "bro_check_data_01_31_2020.csv",
        "bro_vas_data.csv",
        "bro_survey_data_calc.csv",
        "bro_taste_test_data.csv",
        "bro_demographics.csv",
        "bro_screening_data.csv",
        "bro_blood_data_02_06_2020_10.19.csv",
        "bro_survey_data_num.csv"
       ],
       "description": "file",
       "index": 3,
       "layout": "IPY_MODEL_c72868a0ef9c49f3b484bb9925a6f383",
       "style": "IPY_MODEL_e2d8a94d4cc14ac0b60c74802ede9e22"
      }
     },
     "94a1cc25e17f4f369c8dbc23593252b9": {
      "model_module": "@jupyter-widgets/controls",
      "model_module_version": "1.5.0",
      "model_name": "DescriptionStyleModel",
      "state": {
       "description_width": ""
      }
     },
     "c72868a0ef9c49f3b484bb9925a6f383": {
      "model_module": "@jupyter-widgets/base",
      "model_module_version": "1.2.0",
      "model_name": "LayoutModel",
      "state": {}
     },
     "ca091f7ecce04301986dc4078448b9bd": {
      "model_module": "@jupyter-widgets/controls",
      "model_module_version": "1.5.0",
      "model_name": "DescriptionStyleModel",
      "state": {
       "description_width": ""
      }
     },
     "d8076b7d2a2f4d379db674739266b663": {
      "model_module": "@jupyter-widgets/base",
      "model_module_version": "1.2.0",
      "model_name": "LayoutModel",
      "state": {}
     },
     "dcfe90da55bb43aeb6e9e98506734e44": {
      "model_module": "@jupyter-widgets/base",
      "model_module_version": "1.2.0",
      "model_name": "LayoutModel",
      "state": {}
     },
     "def1da09f0f54208b7eaa6a782cc12d4": {
      "model_module": "@jupyter-widgets/controls",
      "model_module_version": "1.5.0",
      "model_name": "DropdownModel",
      "state": {
       "_options_labels": [
        "ALL",
        "bro_001",
        "bro_002",
        "bro_003",
        "bro_004",
        "bro_005",
        "bro_006",
        "bro_007",
        "bro_008",
        "bro_009",
        "bro_010",
        "bro_011",
        "bro_012",
        "bro_013",
        "bro_014",
        "bro_015",
        "bro_016",
        "bro_017",
        "bro_018",
        "bro_019",
        "bro_020",
        "bro_021",
        "bro_022",
        "bro_023",
        "bro_024",
        "bro_025",
        "bro_026",
        "bro_027",
        "bro_028",
        "bro_029",
        "bro_030",
        "bro_031",
        "bro_032",
        "bro_033",
        "bro_034",
        "bro_035",
        "bro_036",
        "bro_037",
        "bro_038",
        "bro_039",
        "bro_040",
        "bro_041",
        "bro_042",
        "bro_043",
        "bro_044",
        "bro_045",
        "bro_046",
        "bro_047",
        "bro_048",
        "bro_049",
        "bro_050",
        "bro_051",
        "bro_052",
        "bro_053",
        "bro_054",
        "bro_055",
        "bro_056"
       ],
       "description": "subject",
       "index": 0,
       "layout": "IPY_MODEL_140b42f9523a45d4be9a4b982a4cbfe4",
       "style": "IPY_MODEL_ca091f7ecce04301986dc4078448b9bd"
      }
     },
     "e2d8a94d4cc14ac0b60c74802ede9e22": {
      "model_module": "@jupyter-widgets/controls",
      "model_module_version": "1.5.0",
      "model_name": "DescriptionStyleModel",
      "state": {
       "description_width": ""
      }
     },
     "f4ae24b9ff114442ac2ee51473249283": {
      "model_module": "@jupyter-widgets/controls",
      "model_module_version": "1.5.0",
      "model_name": "VBoxModel",
      "state": {
       "_dom_classes": [
        "widget-interact"
       ],
       "children": [
        "IPY_MODEL_72c9de6ecfcd4793934d97dd06d9385a",
        "IPY_MODEL_def1da09f0f54208b7eaa6a782cc12d4",
        "IPY_MODEL_4018ac758b06484ebe2361cbd310d7da"
       ],
       "layout": "IPY_MODEL_dcfe90da55bb43aeb6e9e98506734e44"
      }
     },
     "ff62b4f8f51a412b80c0815e8ff411c2": {
      "model_module": "@jupyter-widgets/base",
      "model_module_version": "1.2.0",
      "model_name": "LayoutModel",
      "state": {}
     }
    },
    "version_major": 2,
    "version_minor": 0
   }
  }
 },
 "nbformat": 4,
 "nbformat_minor": 4
}
