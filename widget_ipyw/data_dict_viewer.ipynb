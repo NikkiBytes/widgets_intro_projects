{
 "cells": [
  {
   "cell_type": "code",
   "execution_count": 4,
   "metadata": {},
   "outputs": [],
   "source": [
    "import ipywidgets as widgets\n",
    "from ipywidgets import interact, interact_manual\n",
    "import os, glob\n",
    "import pandas as pd\n",
    "from IPython.display import display\n"
   ]
  },
  {
   "cell_type": "code",
   "execution_count": 5,
   "metadata": {},
   "outputs": [],
   "source": [
    "taste_data=pd.read_csv('bro_taste_test_data.csv')\n",
    "#taste_data.set_index('participantID', inplace=True)"
   ]
  },
  {
   "cell_type": "code",
   "execution_count": 6,
   "metadata": {},
   "outputs": [
    {
     "data": {
      "text/html": [
       "<div>\n",
       "<style scoped>\n",
       "    .dataframe tbody tr th:only-of-type {\n",
       "        vertical-align: middle;\n",
       "    }\n",
       "\n",
       "    .dataframe tbody tr th {\n",
       "        vertical-align: top;\n",
       "    }\n",
       "\n",
       "    .dataframe thead th {\n",
       "        text-align: right;\n",
       "    }\n",
       "</style>\n",
       "<table border=\"1\" class=\"dataframe\">\n",
       "  <thead>\n",
       "    <tr style=\"text-align: right;\">\n",
       "      <th></th>\n",
       "      <th>participantID</th>\n",
       "      <th>StartDate_v1</th>\n",
       "      <th>Duration (in seconds)_v1</th>\n",
       "      <th>Finished_v1</th>\n",
       "      <th>logo1pleasant_1_v1</th>\n",
       "      <th>logo2pleasant_1_v1</th>\n",
       "      <th>milkshakepleasant_1_v1</th>\n",
       "      <th>milkshakedesire_1_v1</th>\n",
       "      <th>milkshakesweet_1_v1</th>\n",
       "      <th>milkshakeintense_1_v1</th>\n",
       "      <th>...</th>\n",
       "      <th>skittsweet_1_v2</th>\n",
       "      <th>skittintense_1_v2</th>\n",
       "      <th>poppleasant_1_v2</th>\n",
       "      <th>popdesire_1_v2</th>\n",
       "      <th>popsavory_1_v2</th>\n",
       "      <th>popintense_1_v2</th>\n",
       "      <th>dorpleasant_1_v2</th>\n",
       "      <th>dordesire_1_v2</th>\n",
       "      <th>dorsavory_1_v2</th>\n",
       "      <th>dorintense_1_v2</th>\n",
       "    </tr>\n",
       "  </thead>\n",
       "  <tbody>\n",
       "    <tr>\n",
       "      <th>0</th>\n",
       "      <td>bro_001</td>\n",
       "      <td>2017-10-25 16:22:54</td>\n",
       "      <td>1645</td>\n",
       "      <td>True</td>\n",
       "      <td>19</td>\n",
       "      <td>3</td>\n",
       "      <td>21</td>\n",
       "      <td>-46</td>\n",
       "      <td>-14</td>\n",
       "      <td>35</td>\n",
       "      <td>...</td>\n",
       "      <td>40.0</td>\n",
       "      <td>55.0</td>\n",
       "      <td>52.0</td>\n",
       "      <td>50.0</td>\n",
       "      <td>33.0</td>\n",
       "      <td>54.0</td>\n",
       "      <td>63.0</td>\n",
       "      <td>70.0</td>\n",
       "      <td>64.0</td>\n",
       "      <td>98.0</td>\n",
       "    </tr>\n",
       "    <tr>\n",
       "      <th>1</th>\n",
       "      <td>bro_002</td>\n",
       "      <td>2017-10-27 17:52:10</td>\n",
       "      <td>2327</td>\n",
       "      <td>True</td>\n",
       "      <td>-40</td>\n",
       "      <td>-61</td>\n",
       "      <td>78</td>\n",
       "      <td>35</td>\n",
       "      <td>46</td>\n",
       "      <td>52</td>\n",
       "      <td>...</td>\n",
       "      <td>41.0</td>\n",
       "      <td>68.0</td>\n",
       "      <td>41.0</td>\n",
       "      <td>42.0</td>\n",
       "      <td>42.0</td>\n",
       "      <td>32.0</td>\n",
       "      <td>18.0</td>\n",
       "      <td>17.0</td>\n",
       "      <td>43.0</td>\n",
       "      <td>48.0</td>\n",
       "    </tr>\n",
       "    <tr>\n",
       "      <th>2</th>\n",
       "      <td>bro_003</td>\n",
       "      <td>2018-01-27 09:33:54</td>\n",
       "      <td>5401</td>\n",
       "      <td>True</td>\n",
       "      <td>20</td>\n",
       "      <td>20</td>\n",
       "      <td>63</td>\n",
       "      <td>78</td>\n",
       "      <td>40</td>\n",
       "      <td>66</td>\n",
       "      <td>...</td>\n",
       "      <td>6.0</td>\n",
       "      <td>39.0</td>\n",
       "      <td>62.0</td>\n",
       "      <td>50.0</td>\n",
       "      <td>40.0</td>\n",
       "      <td>70.0</td>\n",
       "      <td>60.0</td>\n",
       "      <td>51.0</td>\n",
       "      <td>49.0</td>\n",
       "      <td>73.0</td>\n",
       "    </tr>\n",
       "    <tr>\n",
       "      <th>3</th>\n",
       "      <td>bro_004</td>\n",
       "      <td>2018-03-06 17:12:25</td>\n",
       "      <td>10093</td>\n",
       "      <td>True</td>\n",
       "      <td>37</td>\n",
       "      <td>16</td>\n",
       "      <td>95</td>\n",
       "      <td>34</td>\n",
       "      <td>29</td>\n",
       "      <td>56</td>\n",
       "      <td>...</td>\n",
       "      <td>18.0</td>\n",
       "      <td>55.0</td>\n",
       "      <td>37.0</td>\n",
       "      <td>23.0</td>\n",
       "      <td>40.0</td>\n",
       "      <td>32.0</td>\n",
       "      <td>47.0</td>\n",
       "      <td>39.0</td>\n",
       "      <td>44.0</td>\n",
       "      <td>31.0</td>\n",
       "    </tr>\n",
       "    <tr>\n",
       "      <th>4</th>\n",
       "      <td>bro_006</td>\n",
       "      <td>2018-01-06 08:28:37</td>\n",
       "      <td>3742</td>\n",
       "      <td>True</td>\n",
       "      <td>18</td>\n",
       "      <td>-13</td>\n",
       "      <td>21</td>\n",
       "      <td>-36</td>\n",
       "      <td>77</td>\n",
       "      <td>65</td>\n",
       "      <td>...</td>\n",
       "      <td>44.0</td>\n",
       "      <td>43.0</td>\n",
       "      <td>30.0</td>\n",
       "      <td>-10.0</td>\n",
       "      <td>46.0</td>\n",
       "      <td>42.0</td>\n",
       "      <td>31.0</td>\n",
       "      <td>9.0</td>\n",
       "      <td>31.0</td>\n",
       "      <td>45.0</td>\n",
       "    </tr>\n",
       "  </tbody>\n",
       "</table>\n",
       "<p>5 rows × 51 columns</p>\n",
       "</div>"
      ],
      "text/plain": [
       "  participantID         StartDate_v1  Duration (in seconds)_v1  Finished_v1  \\\n",
       "0       bro_001  2017-10-25 16:22:54                      1645         True   \n",
       "1       bro_002  2017-10-27 17:52:10                      2327         True   \n",
       "2       bro_003  2018-01-27 09:33:54                      5401         True   \n",
       "3       bro_004  2018-03-06 17:12:25                     10093         True   \n",
       "4       bro_006  2018-01-06 08:28:37                      3742         True   \n",
       "\n",
       "   logo1pleasant_1_v1  logo2pleasant_1_v1  milkshakepleasant_1_v1  \\\n",
       "0                  19                   3                      21   \n",
       "1                 -40                 -61                      78   \n",
       "2                  20                  20                      63   \n",
       "3                  37                  16                      95   \n",
       "4                  18                 -13                      21   \n",
       "\n",
       "   milkshakedesire_1_v1  milkshakesweet_1_v1  milkshakeintense_1_v1  ...  \\\n",
       "0                   -46                  -14                     35  ...   \n",
       "1                    35                   46                     52  ...   \n",
       "2                    78                   40                     66  ...   \n",
       "3                    34                   29                     56  ...   \n",
       "4                   -36                   77                     65  ...   \n",
       "\n",
       "   skittsweet_1_v2  skittintense_1_v2  poppleasant_1_v2  popdesire_1_v2  \\\n",
       "0             40.0               55.0              52.0            50.0   \n",
       "1             41.0               68.0              41.0            42.0   \n",
       "2              6.0               39.0              62.0            50.0   \n",
       "3             18.0               55.0              37.0            23.0   \n",
       "4             44.0               43.0              30.0           -10.0   \n",
       "\n",
       "   popsavory_1_v2  popintense_1_v2  dorpleasant_1_v2  dordesire_1_v2  \\\n",
       "0            33.0             54.0              63.0            70.0   \n",
       "1            42.0             32.0              18.0            17.0   \n",
       "2            40.0             70.0              60.0            51.0   \n",
       "3            40.0             32.0              47.0            39.0   \n",
       "4            46.0             42.0              31.0             9.0   \n",
       "\n",
       "   dorsavory_1_v2  dorintense_1_v2  \n",
       "0            64.0             98.0  \n",
       "1            43.0             48.0  \n",
       "2            49.0             73.0  \n",
       "3            44.0             31.0  \n",
       "4            31.0             45.0  \n",
       "\n",
       "[5 rows x 51 columns]"
      ]
     },
     "execution_count": 6,
     "metadata": {},
     "output_type": "execute_result"
    }
   ],
   "source": [
    "taste_data.head()"
   ]
  },
  {
   "cell_type": "code",
   "execution_count": 7,
   "metadata": {},
   "outputs": [
    {
     "data": {
      "text/plain": [
       "array(['participantID', 'StartDate_v1', 'Duration (in seconds)_v1',\n",
       "       'Finished_v1', 'logo1pleasant_1_v1', 'logo2pleasant_1_v1',\n",
       "       'milkshakepleasant_1_v1', 'milkshakedesire_1_v1',\n",
       "       'milkshakesweet_1_v1', 'milkshakeintense_1_v1', 'mmpleasant_1_v1',\n",
       "       'mmdesire_1_v1', 'mmsweet_1_v1', 'mmintense_1_v1',\n",
       "       'skittpleasant_1_v1', 'skittdesire_1_v1', 'skittsweet_1_v1',\n",
       "       'skittintense_1_v1', 'poppleasant_1_v1', 'popdesire_1_v1',\n",
       "       'popsavory_1_v1', 'popintense_1_v1', 'dorpleasant_1_v1',\n",
       "       'dordesire_1_v1', 'dorsavory_1_v1', 'dorintense_1_v1',\n",
       "       'StartDate_v2', 'Duration (in seconds)_v2', 'Finished_v2',\n",
       "       'logo1pleasant_1_v2', 'logo2pleasant_1_v2',\n",
       "       'milkshakepleasant_1_v2', 'milkshakedesire_1_v2',\n",
       "       'milkshakesweet_1_v2', 'milkshakeintense_1_v2', 'mmpleasant_1_v2',\n",
       "       'mmdesire_1_v2', 'mmsweet_1_v2', 'mmintense_1_v2',\n",
       "       'skittpleasant_1_v2', 'skittdesire_1_v2', 'skittsweet_1_v2',\n",
       "       'skittintense_1_v2', 'poppleasant_1_v2', 'popdesire_1_v2',\n",
       "       'popsavory_1_v2', 'popintense_1_v2', 'dorpleasant_1_v2',\n",
       "       'dordesire_1_v2', 'dorsavory_1_v2', 'dorintense_1_v2'],\n",
       "      dtype=object)"
      ]
     },
     "execution_count": 7,
     "metadata": {},
     "output_type": "execute_result"
    }
   ],
   "source": [
    "taste_data.columns.values"
   ]
  },
  {
   "cell_type": "code",
   "execution_count": 8,
   "metadata": {},
   "outputs": [
    {
     "data": {
      "application/vnd.jupyter.widget-view+json": {
       "model_id": "bf49df1b38f34fbdadb6a0a3f606ed6e",
       "version_major": 2,
       "version_minor": 0
      },
      "text/plain": [
       "interactive(children=(Dropdown(description='column', options=('milkshakedesire_1_v1', 'milkshakesweet_1_v1', '…"
      ]
     },
     "metadata": {},
     "output_type": "display_data"
    }
   ],
   "source": [
    "@interact\n",
    "def show_articles_more_than(column=[  'milkshakedesire_1_v1',\n",
    "       'milkshakesweet_1_v1', 'milkshakeintense_1_v1','milkshakepleasant_1_v2', 'milkshakedesire_1_v2',\n",
    "       'milkshakesweet_1_v2', 'milkshakeintense_1_v2'] , x=(10, 100, 10)):\n",
    "    return taste_data.loc[taste_data[column] > x]"
   ]
  },
  {
   "cell_type": "code",
   "execution_count": 9,
   "metadata": {},
   "outputs": [],
   "source": [
    "#display(taste_data)"
   ]
  },
  {
   "cell_type": "code",
   "execution_count": 10,
   "metadata": {},
   "outputs": [],
   "source": [
    "#import cufflinks as cf\n",
    "\n",
    "#@interact\n",
    "#def scatter_plot(x=list(taste_data.select_dtypes('number').columns), \n",
    " #                y=list(taste_data.select_dtypes('number').columns)[1:],\n",
    "  #               theme=list(cf.themes.THEMES.keys()), \n",
    "   #              colorscale=list(cf.colors._scales_names.keys())):\n",
    "    \n",
    "   # taste_data.iplot(kind='scatter', x=x, y=y, mode='markers', theme=theme, colorscale=colorscale,\n",
    "    #                 xTitle=x.title(), yTitle=y.title())\n",
    "             #text='title',theme=theme, colorscale=colorscale)\n",
    "             #title=f'{y.title()} vs {x.title()}', theme=theme, colorscale=colorscale)"
   ]
  },
  {
   "cell_type": "markdown",
   "metadata": {},
   "source": [
    "Suppose we would like to filter the dataframe by year. We will first define a dropdown and populate it with the list of unique year values.\n",
    "In order to do this, we will create a generic function, unique_sorted_values_plus_ALL, which will find the unique values, sort them and then add the ALL item at the start, so the user could remove the filter"
   ]
  },
  {
   "cell_type": "code",
   "execution_count": 11,
   "metadata": {},
   "outputs": [],
   "source": [
    "ALL = 'ALL'\n",
    "def unique_sorted_values_plus_ALL(array):\n",
    "    unique = array.unique().tolist()\n",
    "    unique.sort()\n",
    "    unique.insert(0, ALL)\n",
    "    return unique;"
   ]
  },
  {
   "cell_type": "code",
   "execution_count": 12,
   "metadata": {},
   "outputs": [],
   "source": [
    "dropdown_subject = widgets.Dropdown(options = unique_sorted_values_plus_ALL(taste_data.participantID))\n"
   ]
  },
  {
   "cell_type": "code",
   "execution_count": 19,
   "metadata": {},
   "outputs": [
    {
     "data": {
      "application/vnd.jupyter.widget-view+json": {
       "model_id": "b34a819920e1424e8f12b905fea4b5f2",
       "version_major": 2,
       "version_minor": 0
      },
      "text/plain": [
       "Dropdown(options=('ALL', 'bro_001', 'bro_002', 'bro_003', 'bro_004', 'bro_006', 'bro_007', 'bro_008', 'bro_009…"
      ]
     },
     "metadata": {},
     "output_type": "display_data"
    }
   ],
   "source": [
    "\n",
    "\n",
    "\n",
    "\n",
    "output_subject = widgets.Output()\n",
    "display(dropdown_subject)\n",
    "def dropdown_subject_eventhandler(change):\n",
    "    #print(change)\n",
    "    with output_subject:\n",
    "        display(taste_data)\n",
    "        #display(change['new'])\n",
    "    #print(change)\n",
    "    #output_subject.clear_output()\n",
    "    #with output_subject:\n",
    "    #if (change.new == ALL):\n",
    "     #   display(taste_data)\n",
    "    #else:\n",
    "      #  display(taste_data[taste_data.participantID == change.new])\n",
    "        \n",
    "dropdown_subject.observe(dropdown_subject_eventhandler)#, names=\"value\")#, names='value')#, names='value')\n"
   ]
  },
  {
   "cell_type": "code",
   "execution_count": null,
   "metadata": {},
   "outputs": [],
   "source": []
  }
 ],
 "metadata": {
  "kernelspec": {
   "display_name": "Python 3",
   "language": "python",
   "name": "python3"
  },
  "language_info": {
   "codemirror_mode": {
    "name": "ipython",
    "version": 3
   },
   "file_extension": ".py",
   "mimetype": "text/x-python",
   "name": "python",
   "nbconvert_exporter": "python",
   "pygments_lexer": "ipython3",
   "version": "3.7.4"
  },
  "widgets": {
   "application/vnd.jupyter.widget-state+json": {
    "state": {},
    "version_major": 2,
    "version_minor": 0
   }
  }
 },
 "nbformat": 4,
 "nbformat_minor": 4
}
