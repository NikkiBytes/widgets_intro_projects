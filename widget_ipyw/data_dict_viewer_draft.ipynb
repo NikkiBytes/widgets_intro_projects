{
 "cells": [
  {
   "cell_type": "code",
   "execution_count": 2,
   "metadata": {},
   "outputs": [],
   "source": [
    "import ipywidgets as widgets\n",
    "from ipywidgets import interact, interact_manual\n",
    "import os, glob\n",
    "import pandas as pd\n",
    "from IPython.display import display\n"
   ]
  },
  {
   "cell_type": "code",
   "execution_count": 3,
   "metadata": {},
   "outputs": [],
   "source": [
    "taste_data=pd.read_csv('bro_taste_test_data.csv')\n",
    "#taste_data.set_index('participantID', inplace=True)"
   ]
  },
  {
   "cell_type": "code",
   "execution_count": 4,
   "metadata": {},
   "outputs": [],
   "source": [
    "#taste_data.head()"
   ]
  },
  {
   "cell_type": "code",
   "execution_count": 5,
   "metadata": {},
   "outputs": [],
   "source": [
    "#taste_data.columns.values"
   ]
  },
  {
   "cell_type": "markdown",
   "metadata": {},
   "source": [
    "Suppose we would like to filter the dataframe by year. We will first define a dropdown and populate it with the list of unique year values.\n",
    "In order to do this, we will create a generic function, unique_sorted_values_plus_ALL, which will find the unique values, sort them and then add the ALL item at the start, so the user could remove the filter"
   ]
  },
  {
   "cell_type": "code",
   "execution_count": 6,
   "metadata": {},
   "outputs": [],
   "source": [
    "ALL = 'ALL'\n",
    "def unique_sorted_values_plus_ALL(array):\n",
    "    unique = array.unique().tolist()\n",
    "    unique.sort()\n",
    "    unique.insert(0, ALL)\n",
    "    return unique;"
   ]
  },
  {
   "cell_type": "code",
   "execution_count": 7,
   "metadata": {},
   "outputs": [
    {
     "data": {
      "application/vnd.jupyter.widget-view+json": {
       "model_id": "bc3963a60f834e3985eef39060e3cd1e",
       "version_major": 2,
       "version_minor": 0
      },
      "text/plain": [
       "interactive(children=(Dropdown(description='column', options=('milkshakedesire_1_v1', 'milkshakesweet_1_v1', '…"
      ]
     },
     "metadata": {},
     "output_type": "display_data"
    }
   ],
   "source": [
    "#@interact\n",
    "#def show_articles_more_than(column=[  'milkshakedesire_1_v1',\n",
    " #      'milkshakesweet_1_v1', 'milkshakeintense_1_v1','milkshakepleasant_1_v2', 'milkshakedesire_1_v2',\n",
    "  #     'milkshakesweet_1_v2', 'milkshakeintense_1_v2'] , x=(10, 100, 10)):\n",
    "  #  return taste_data.loc[taste_data[column] > x]"
   ]
  },
  {
   "cell_type": "code",
   "execution_count": 20,
   "metadata": {},
   "outputs": [],
   "source": [
    "csvs=[x.split(\"/\")[-1] for x in glob.glob(os.path.join('data/*.csv'))]\n",
    "#csvs"
   ]
  },
  {
   "cell_type": "code",
   "execution_count": 19,
   "metadata": {},
   "outputs": [
    {
     "data": {
      "application/vnd.jupyter.widget-view+json": {
       "model_id": "6d1b218f70a4417eaba5b20d226eb94f",
       "version_major": 2,
       "version_minor": 0
      },
      "text/plain": [
       "interactive(children=(Dropdown(description='file', options=('bro_survey_data_str.csv', 'bro_taqstatus.csv', 'b…"
      ]
     },
     "metadata": {},
     "output_type": "display_data"
    }
   ],
   "source": [
    "def make_df(csv):\n",
    "    file_path = os.path.join('data', csv)\n",
    "    df = pd.read_csv(file_path)\n",
    "    return df\n",
    "\n",
    "@interact\n",
    "def show_subject(file = csvs, subject= unique_sorted_values_plus_ALL(taste_data.participantID)):\n",
    "    # get file dataframe\n",
    "    df = make_df(file)\n",
    "\n",
    "    if subject == \"ALL\":\n",
    "        return df\n",
    "    else:\n",
    "        return df.loc[df['participantID'] == subject]\n",
    "    #return taste_data"
   ]
  },
  {
   "cell_type": "code",
   "execution_count": null,
   "metadata": {},
   "outputs": [],
   "source": []
  }
 ],
 "metadata": {
  "kernelspec": {
   "display_name": "Python 3",
   "language": "python",
   "name": "python3"
  },
  "language_info": {
   "codemirror_mode": {
    "name": "ipython",
    "version": 3
   },
   "file_extension": ".py",
   "mimetype": "text/x-python",
   "name": "python",
   "nbconvert_exporter": "python",
   "pygments_lexer": "ipython3",
   "version": "3.7.4"
  },
  "widgets": {
   "application/vnd.jupyter.widget-state+json": {
    "state": {},
    "version_major": 2,
    "version_minor": 0
   }
  }
 },
 "nbformat": 4,
 "nbformat_minor": 4
}
