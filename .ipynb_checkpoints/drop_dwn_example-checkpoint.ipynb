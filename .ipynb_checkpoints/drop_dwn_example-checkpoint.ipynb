{
 "cells": [
  {
   "cell_type": "code",
   "execution_count": null,
   "metadata": {},
   "outputs": [],
   "source": [
    "import datetime\n",
    "import ipywidgets as ipyw\n",
    "\n",
    "from bokeh.models.widgets.inputs import AutocompleteInput\n",
    "from IPython.display import display\n",
    "\n",
    "dp1 = ipyw.Dropdown(options = ['Asia','Europe','Africa'])\n",
    "dp2 = ipyw.Dropdown(options = ['India','China','Pakistan','Tibet'])\n",
    "asia_list = ['India','China','Pakistan','Tibet']\n",
    "europe_list = ['Germany','France','Italy']\n",
    "africa_list = ['south africa','Nigeria','Kenya']\n",
    "global_vbox = ipyw.VBox()\n",
    "global_vbox.children = [dp1,dp2]\n",
    "display(global_vbox)\n",
    "def continent_change_event(x):\n",
    "    global dp1\n",
    "    global dp2\n",
    "    list_name = dp1.value\n",
    "    dp2.index = None #This line is very important for setting the values for widgets other than widget with observe method\n",
    "    dp2.index = 0\n",
    "    if(list_name == 'Asia'):\n",
    "        dp2.options = asia_list\n",
    "    elif(list_name == 'Europe'):\n",
    "        dp2.options = europe_list\n",
    "    else:\n",
    "        dp2.options = africa_list\n",
    "\n",
    "dp1.observe(continent_change_event)"
   ]
  }
 ],
 "metadata": {
  "kernelspec": {
   "display_name": "Python 3",
   "language": "python",
   "name": "python3"
  },
  "language_info": {
   "codemirror_mode": {
    "name": "ipython",
    "version": 3
   },
   "file_extension": ".py",
   "mimetype": "text/x-python",
   "name": "python",
   "nbconvert_exporter": "python",
   "pygments_lexer": "ipython3",
   "version": "3.7.4"
  },
  "widgets": {
   "application/vnd.jupyter.widget-state+json": {
    "state": {},
    "version_major": 2,
    "version_minor": 0
   }
  }
 },
 "nbformat": 4,
 "nbformat_minor": 4
}
